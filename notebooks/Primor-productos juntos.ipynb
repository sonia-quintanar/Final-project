{
 "cells": [
  {
   "cell_type": "code",
   "execution_count": 1,
   "metadata": {},
   "outputs": [],
   "source": [
    "import requests\n",
    "from bs4 import BeautifulSoup\n",
    "import pandas as pd\n",
    "import json\n",
    "import numpy as np"
   ]
  },
  {
   "cell_type": "markdown",
   "metadata": {},
   "source": [
    "## Prueba productos (Toda la info junta)"
   ]
  },
  {
   "cell_type": "code",
   "execution_count": 125,
   "metadata": {},
   "outputs": [],
   "source": [
    "url = 'https://www.primor.eu/66-dermocosmetica'"
   ]
  },
  {
   "cell_type": "code",
   "execution_count": 126,
   "metadata": {},
   "outputs": [],
   "source": [
    "response = requests.get(url).text"
   ]
  },
  {
   "cell_type": "code",
   "execution_count": 127,
   "metadata": {},
   "outputs": [],
   "source": [
    "beautiful = BeautifulSoup(response,'html.parser')"
   ]
  },
  {
   "cell_type": "code",
   "execution_count": 131,
   "metadata": {},
   "outputs": [],
   "source": [
    "soup = BeautifulSoup(response,)"
   ]
  },
  {
   "cell_type": "code",
   "execution_count": 132,
   "metadata": {},
   "outputs": [],
   "source": [
    "productos_todos = soup.find_all('div',class_ = 'product-container')"
   ]
  },
  {
   "cell_type": "code",
   "execution_count": 173,
   "metadata": {},
   "outputs": [
    {
     "data": {
      "text/plain": [
       "[' Nuevo   Deiters   FisioCannabis Crema en Gel Alivio Muscular...      10,95 €     Disponible    Añadir a la lista de deseos   Comprar ',\n",
       " '    Sesderma   Serenity Bruma Rostro y Almohada      21,50 €   -17% 25,70 €   Disponible    Añadir a la lista de deseos   Comprar ',\n",
       " '    Sesderma   Serenity Sérum Liposomal Noche...      34,99 €   -15% 41,15 €   Disponible    Añadir a la lista de deseos   Comprar ',\n",
       " '    Sesderma   Serenity Mascarilla Facial Nocturna...      25,99 €   -16% 30,85 €   Disponible    Añadir a la lista de deseos   Comprar ',\n",
       " '    Sesderma   Serenity Crema de Noche Antienvejecimiento      29,99 €   -17% 36,00 €   Disponible    Añadir a la lista de deseos   Comprar ',\n",
       " '    Klorane   Gel Crema Hidratante con Agua de Aciano      21,99 €   -17% 26,45 €   Disponible    Añadir a la lista de deseos   Comprar ',\n",
       " '    Klorane   Bruma Corporal Hidratante de Peonía      11,75 €   -16% 13,90 €   Disponible    Añadir a la lista de deseos   Comprar ',\n",
       " '    Avene   Cicalfate Gel para Cicatrices      10,99 €   -19% 13,50 €   Disponible    Añadir a la lista de deseos   Comprar ',\n",
       " '    Ducray   Set Keracnyl Sérum + Gel Limpiador      25,50 €   -16% 30,20 €   Disponible    Añadir a la lista de deseos   Comprar ',\n",
       " '    Ducray   Dexeryl Crema Barrera Aislante      10,50 €   -16% 12,40 €   Disponible    Añadir a la lista de deseos   Comprar ',\n",
       " '    Ducray   Dermalibour + Crema Reparadora      4,99 €   -21% 6,30 €   Disponible    Añadir a la lista de deseos   Comprar ',\n",
       " '    Ducray   Set Keracnyl PP Crema + Gel Limpiador      20,99 €   -21% 26,45 €   Disponible    Añadir a la lista de deseos   Comprar ',\n",
       " '    Ducray   Set Keracnyl Control + Gel Limpiador      20,99 €   -21% 26,45 €   Disponible    Añadir a la lista de deseos   Comprar ',\n",
       " '    Blistex   Lip Infusion Hydration SPF15 Bálsamo Labial      1,99 €     Disponible    Añadir a la lista de deseos   Comprar ',\n",
       " '    Blistex   Lip Infusion Nourish SPF15 Bálsamo Labial      1,99 €     Disponible    Añadir a la lista de deseos   Comprar ',\n",
       " '    Bio-Oil   Gel para Piel Seca    Desde   9,95 €   -20% 12,35 €   Disponible    Añadir a la lista de deseos    Ver opciones ',\n",
       " '    Eucerin   DermatoClean Hyaluron Espuma Micelar      10,99 €   -14% 12,75 €   Disponible    Añadir a la lista de deseos   Comprar ',\n",
       " '    Avene   Desodorante Roll On 24h Piel Sensible      7,95 €   -19% 9,75 €   Disponible    Añadir a la lista de deseos   Comprar ',\n",
       " '    Sesderma   Oceanskin Crema Facial Nutritiva      28,75 €   -16% 34,00 €   Disponible    Añadir a la lista de deseos   Comprar ',\n",
       " '    Beauty Drops   Vitamina C al 20% + Ácido Hialurónico      7,95 €   -28% 10,95 €   Disponible    Añadir a la lista de deseos   Comprar ',\n",
       " '    Belcils   Pack Cejas Perfectas      15,99 €     Disponible    Añadir a la lista de deseos   Comprar ',\n",
       " '    Belcils   Máscara Sublime      14,99 €   -17% 18,05 €   Disponible    Añadir a la lista de deseos   Comprar ',\n",
       " '    Sesderma   Juveneses Sebum Regulador      28,75 €   -21% 36,00 €   Disponible    Añadir a la lista de deseos   Comprar ',\n",
       " '    Sesderma   Hidraloe Contorno de Ojos      13,99 €   -14% 16,10 €   Disponible    Añadir a la lista de deseos   Comprar ']"
      ]
     },
     "execution_count": 173,
     "metadata": {},
     "output_type": "execute_result"
    }
   ],
   "source": [
    "productos_juntos3 = [elemento.text for elemento in productos_todos]\n",
    "productos_juntos3"
   ]
  },
  {
   "cell_type": "code",
   "execution_count": 209,
   "metadata": {},
   "outputs": [
    {
     "data": {
      "text/plain": [
       "list"
      ]
     },
     "execution_count": 209,
     "metadata": {},
     "output_type": "execute_result"
    }
   ],
   "source": [
    "type(productos_juntos3)"
   ]
  },
  {
   "cell_type": "code",
   "execution_count": 182,
   "metadata": {},
   "outputs": [
    {
     "name": "stdout",
     "output_type": "stream",
     "text": [
      "[' Nuevo', ' Deiters', ' FisioCannabis Crema en Gel Alivio Muscular...', '', '', '10,95 €', '', ' Disponible', '', 'Añadir a la lista de deseos', ' Comprar ']\n",
      "['', '', 'Sesderma', ' Serenity Bruma Rostro y Almohada', '', '', '21,50 €', ' -17% 25,70 €', ' Disponible', '', 'Añadir a la lista de deseos', ' Comprar ']\n",
      "['', '', 'Sesderma', ' Serenity Sérum Liposomal Noche...', '', '', '34,99 €', ' -15% 41,15 €', ' Disponible', '', 'Añadir a la lista de deseos', ' Comprar ']\n",
      "['', '', 'Sesderma', ' Serenity Mascarilla Facial Nocturna...', '', '', '25,99 €', ' -16% 30,85 €', ' Disponible', '', 'Añadir a la lista de deseos', ' Comprar ']\n",
      "['', '', 'Sesderma', ' Serenity Crema de Noche Antienvejecimiento', '', '', '29,99 €', ' -17% 36,00 €', ' Disponible', '', 'Añadir a la lista de deseos', ' Comprar ']\n",
      "['', '', 'Klorane', ' Gel Crema Hidratante con Agua de Aciano', '', '', '21,99 €', ' -17% 26,45 €', ' Disponible', '', 'Añadir a la lista de deseos', ' Comprar ']\n",
      "['', '', 'Klorane', ' Bruma Corporal Hidratante de Peonía', '', '', '11,75 €', ' -16% 13,90 €', ' Disponible', '', 'Añadir a la lista de deseos', ' Comprar ']\n",
      "['', '', 'Avene', ' Cicalfate Gel para Cicatrices', '', '', '10,99 €', ' -19% 13,50 €', ' Disponible', '', 'Añadir a la lista de deseos', ' Comprar ']\n",
      "['', '', 'Ducray', ' Set Keracnyl Sérum + Gel Limpiador', '', '', '25,50 €', ' -16% 30,20 €', ' Disponible', '', 'Añadir a la lista de deseos', ' Comprar ']\n",
      "['', '', 'Ducray', ' Dexeryl Crema Barrera Aislante', '', '', '10,50 €', ' -16% 12,40 €', ' Disponible', '', 'Añadir a la lista de deseos', ' Comprar ']\n",
      "['', '', 'Ducray', ' Dermalibour + Crema Reparadora', '', '', '4,99 €', ' -21% 6,30 €', ' Disponible', '', 'Añadir a la lista de deseos', ' Comprar ']\n",
      "['', '', 'Ducray', ' Set Keracnyl PP Crema + Gel Limpiador', '', '', '20,99 €', ' -21% 26,45 €', ' Disponible', '', 'Añadir a la lista de deseos', ' Comprar ']\n",
      "['', '', 'Ducray', ' Set Keracnyl Control + Gel Limpiador', '', '', '20,99 €', ' -21% 26,45 €', ' Disponible', '', 'Añadir a la lista de deseos', ' Comprar ']\n",
      "['', '', 'Blistex', ' Lip Infusion Hydration SPF15 Bálsamo Labial', '', '', '1,99 €', '', ' Disponible', '', 'Añadir a la lista de deseos', ' Comprar ']\n",
      "['', '', 'Blistex', ' Lip Infusion Nourish SPF15 Bálsamo Labial', '', '', '1,99 €', '', ' Disponible', '', 'Añadir a la lista de deseos', ' Comprar ']\n",
      "['', '', 'Bio-Oil', ' Gel para Piel Seca', '', 'Desde', ' 9,95 €', ' -20% 12,35 €', ' Disponible', '', 'Añadir a la lista de deseos', '', 'Ver opciones ']\n",
      "['', '', 'Eucerin', ' DermatoClean Hyaluron Espuma Micelar', '', '', '10,99 €', ' -14% 12,75 €', ' Disponible', '', 'Añadir a la lista de deseos', ' Comprar ']\n",
      "['', '', 'Avene', ' Desodorante Roll On 24h Piel Sensible', '', '', '7,95 €', ' -19% 9,75 €', ' Disponible', '', 'Añadir a la lista de deseos', ' Comprar ']\n",
      "['', '', 'Sesderma', ' Oceanskin Crema Facial Nutritiva', '', '', '28,75 €', ' -16% 34,00 €', ' Disponible', '', 'Añadir a la lista de deseos', ' Comprar ']\n",
      "['', '', 'Beauty Drops', ' Vitamina C al 20% + Ácido Hialurónico', '', '', '7,95 €', ' -28% 10,95 €', ' Disponible', '', 'Añadir a la lista de deseos', ' Comprar ']\n",
      "['', '', 'Belcils', ' Pack Cejas Perfectas', '', '', '15,99 €', '', ' Disponible', '', 'Añadir a la lista de deseos', ' Comprar ']\n",
      "['', '', 'Belcils', ' Máscara Sublime', '', '', '14,99 €', ' -17% 18,05 €', ' Disponible', '', 'Añadir a la lista de deseos', ' Comprar ']\n",
      "['', '', 'Sesderma', ' Juveneses Sebum Regulador', '', '', '28,75 €', ' -21% 36,00 €', ' Disponible', '', 'Añadir a la lista de deseos', ' Comprar ']\n",
      "['', '', 'Sesderma', ' Hidraloe Contorno de Ojos', '', '', '13,99 €', ' -14% 16,10 €', ' Disponible', '', 'Añadir a la lista de deseos', ' Comprar ']\n"
     ]
    }
   ],
   "source": [
    "separador = \"  \"\n",
    "for i in productos_juntos3:\n",
    "    palabras = i.split(separador)\n",
    "    print(palabras)"
   ]
  },
  {
   "cell_type": "code",
   "execution_count": 207,
   "metadata": {},
   "outputs": [
    {
     "data": {
      "text/plain": [
       "list"
      ]
     },
     "execution_count": 207,
     "metadata": {},
     "output_type": "execute_result"
    }
   ],
   "source": [
    "type(palabras)"
   ]
  },
  {
   "cell_type": "code",
   "execution_count": 208,
   "metadata": {},
   "outputs": [
    {
     "data": {
      "text/html": [
       "<div>\n",
       "<style scoped>\n",
       "    .dataframe tbody tr th:only-of-type {\n",
       "        vertical-align: middle;\n",
       "    }\n",
       "\n",
       "    .dataframe tbody tr th {\n",
       "        vertical-align: top;\n",
       "    }\n",
       "\n",
       "    .dataframe thead th {\n",
       "        text-align: right;\n",
       "    }\n",
       "</style>\n",
       "<table border=\"1\" class=\"dataframe\">\n",
       "  <thead>\n",
       "    <tr style=\"text-align: right;\">\n",
       "      <th></th>\n",
       "      <th>0</th>\n",
       "    </tr>\n",
       "  </thead>\n",
       "  <tbody>\n",
       "    <tr>\n",
       "      <th>0</th>\n",
       "      <td></td>\n",
       "    </tr>\n",
       "    <tr>\n",
       "      <th>1</th>\n",
       "      <td></td>\n",
       "    </tr>\n",
       "    <tr>\n",
       "      <th>2</th>\n",
       "      <td>Sesderma</td>\n",
       "    </tr>\n",
       "    <tr>\n",
       "      <th>3</th>\n",
       "      <td>Hidraloe Contorno de Ojos</td>\n",
       "    </tr>\n",
       "    <tr>\n",
       "      <th>4</th>\n",
       "      <td></td>\n",
       "    </tr>\n",
       "    <tr>\n",
       "      <th>5</th>\n",
       "      <td></td>\n",
       "    </tr>\n",
       "    <tr>\n",
       "      <th>6</th>\n",
       "      <td>13,99 €</td>\n",
       "    </tr>\n",
       "    <tr>\n",
       "      <th>7</th>\n",
       "      <td>-14% 16,10 €</td>\n",
       "    </tr>\n",
       "    <tr>\n",
       "      <th>8</th>\n",
       "      <td>Disponible</td>\n",
       "    </tr>\n",
       "    <tr>\n",
       "      <th>9</th>\n",
       "      <td></td>\n",
       "    </tr>\n",
       "    <tr>\n",
       "      <th>10</th>\n",
       "      <td>Añadir a la lista de deseos</td>\n",
       "    </tr>\n",
       "    <tr>\n",
       "      <th>11</th>\n",
       "      <td>Comprar</td>\n",
       "    </tr>\n",
       "  </tbody>\n",
       "</table>\n",
       "</div>"
      ],
      "text/plain": [
       "                              0\n",
       "0                              \n",
       "1                              \n",
       "2                      Sesderma\n",
       "3     Hidraloe Contorno de Ojos\n",
       "4                              \n",
       "5                              \n",
       "6                       13,99 €\n",
       "7                  -14% 16,10 €\n",
       "8                    Disponible\n",
       "9                              \n",
       "10  Añadir a la lista de deseos\n",
       "11                     Comprar "
      ]
     },
     "execution_count": 208,
     "metadata": {},
     "output_type": "execute_result"
    }
   ],
   "source": [
    "df = pd.DataFrame(palabras)\n",
    "df"
   ]
  },
  {
   "cell_type": "code",
   "execution_count": 238,
   "metadata": {},
   "outputs": [
    {
     "name": "stdout",
     "output_type": "stream",
     "text": [
      "[' Deiters', ' FisioCannabis Crema en Gel Alivio Muscular...', '', '', '10,95 €']\n",
      "['', 'Sesderma', ' Serenity Bruma Rostro y Almohada', '', '', '21,50 €']\n",
      "['', 'Sesderma', ' Serenity Sérum Liposomal Noche...', '', '', '34,99 €']\n",
      "['', 'Sesderma', ' Serenity Mascarilla Facial Nocturna...', '', '', '25,99 €']\n",
      "['', 'Sesderma', ' Serenity Crema de Noche Antienvejecimiento', '', '', '29,99 €']\n",
      "['', 'Klorane', ' Gel Crema Hidratante con Agua de Aciano', '', '', '21,99 €']\n",
      "['', 'Klorane', ' Bruma Corporal Hidratante de Peonía', '', '', '11,75 €']\n",
      "['', 'Avene', ' Cicalfate Gel para Cicatrices', '', '', '10,99 €']\n",
      "['', 'Ducray', ' Set Keracnyl Sérum + Gel Limpiador', '', '', '25,50 €']\n",
      "['', 'Ducray', ' Dexeryl Crema Barrera Aislante', '', '', '10,50 €']\n",
      "['', 'Ducray', ' Dermalibour + Crema Reparadora', '', '', '4,99 €']\n",
      "['', 'Ducray', ' Set Keracnyl PP Crema + Gel Limpiador', '', '', '20,99 €']\n",
      "['', 'Ducray', ' Set Keracnyl Control + Gel Limpiador', '', '', '20,99 €']\n",
      "['', 'Blistex', ' Lip Infusion Hydration SPF15 Bálsamo Labial', '', '', '1,99 €']\n",
      "['', 'Blistex', ' Lip Infusion Nourish SPF15 Bálsamo Labial', '', '', '1,99 €']\n",
      "['', 'Bio-Oil', ' Gel para Piel Seca', '', 'Desde', ' 9,95 €', ' -20% 12,35 €']\n",
      "['', 'Eucerin', ' DermatoClean Hyaluron Espuma Micelar', '', '', '10,99 €']\n",
      "['', 'Avene', ' Desodorante Roll On 24h Piel Sensible', '', '', '7,95 €']\n",
      "['', 'Sesderma', ' Oceanskin Crema Facial Nutritiva', '', '', '28,75 €']\n",
      "['', 'Beauty Drops', ' Vitamina C al 20% + Ácido Hialurónico', '', '', '7,95 €']\n",
      "['', 'Belcils', ' Pack Cejas Perfectas', '', '', '15,99 €']\n",
      "['', 'Belcils', ' Máscara Sublime', '', '', '14,99 €']\n",
      "['', 'Sesderma', ' Juveneses Sebum Regulador', '', '', '28,75 €']\n",
      "['', 'Sesderma', ' Hidraloe Contorno de Ojos', '', '', '13,99 €']\n"
     ]
    }
   ],
   "source": [
    "separador = \"  \"\n",
    "for i in productos_juntos3:\n",
    "    palabras = i.split(separador)\n",
    "    print(palabras[1:-5])"
   ]
  },
  {
   "cell_type": "code",
   "execution_count": 229,
   "metadata": {},
   "outputs": [
    {
     "data": {
      "text/html": [
       "<div>\n",
       "<style scoped>\n",
       "    .dataframe tbody tr th:only-of-type {\n",
       "        vertical-align: middle;\n",
       "    }\n",
       "\n",
       "    .dataframe tbody tr th {\n",
       "        vertical-align: top;\n",
       "    }\n",
       "\n",
       "    .dataframe thead th {\n",
       "        text-align: right;\n",
       "    }\n",
       "</style>\n",
       "<table border=\"1\" class=\"dataframe\">\n",
       "  <thead>\n",
       "    <tr style=\"text-align: right;\">\n",
       "      <th></th>\n",
       "      <th>0</th>\n",
       "    </tr>\n",
       "  </thead>\n",
       "  <tbody>\n",
       "    <tr>\n",
       "      <th>0</th>\n",
       "      <td></td>\n",
       "    </tr>\n",
       "    <tr>\n",
       "      <th>1</th>\n",
       "      <td>Sesderma</td>\n",
       "    </tr>\n",
       "    <tr>\n",
       "      <th>2</th>\n",
       "      <td>Hidraloe Contorno de Ojos</td>\n",
       "    </tr>\n",
       "    <tr>\n",
       "      <th>3</th>\n",
       "      <td></td>\n",
       "    </tr>\n",
       "    <tr>\n",
       "      <th>4</th>\n",
       "      <td></td>\n",
       "    </tr>\n",
       "    <tr>\n",
       "      <th>5</th>\n",
       "      <td>13,99 €</td>\n",
       "    </tr>\n",
       "  </tbody>\n",
       "</table>\n",
       "</div>"
      ],
      "text/plain": [
       "                            0\n",
       "0                            \n",
       "1                    Sesderma\n",
       "2   Hidraloe Contorno de Ojos\n",
       "3                            \n",
       "4                            \n",
       "5                     13,99 €"
      ]
     },
     "execution_count": 229,
     "metadata": {},
     "output_type": "execute_result"
    }
   ],
   "source": [
    "df = pd.DataFrame(palabras[1:-5])\n",
    "df"
   ]
  },
  {
   "cell_type": "code",
   "execution_count": 146,
   "metadata": {},
   "outputs": [
    {
     "name": "stdout",
     "output_type": "stream",
     "text": [
      "[[' Nuevo   Deiters   FisioCannabis Crema en Gel Alivio Muscular...      10,95 €     Disponible    Añadir a la lista de deseos   Comprar ', '    Sesderma   Serenity Bruma Rostro y Almohada      21,50 €   -17% 25,70 €   Disponible    Añadir a la lista de deseos   Comprar ', '    Sesderma   Serenity Sérum Liposomal Noche...      34,99 €   -15% 41,15 €   Disponible    Añadir a la lista de deseos   Comprar ', '    Sesderma   Serenity Mascarilla Facial Nocturna...      25,99 €   -16% 30,85 €   Disponible    Añadir a la lista de deseos   Comprar ', '    Sesderma   Serenity Crema de Noche Antienvejecimiento      29,99 €   -17% 36,00 €   Disponible    Añadir a la lista de deseos   Comprar ', '    Klorane   Gel Crema Hidratante con Agua de Aciano      21,99 €   -17% 26,45 €   Disponible    Añadir a la lista de deseos   Comprar ', '    Klorane   Bruma Corporal Hidratante de Peonía      11,75 €   -16% 13,90 €   Disponible    Añadir a la lista de deseos   Comprar ', '    Avene   Cicalfate Gel para Cicatrices      10,99 €   -19% 13,50 €   Disponible    Añadir a la lista de deseos   Comprar ', '    Ducray   Set Keracnyl Sérum + Gel Limpiador      25,50 €   -16% 30,20 €   Disponible    Añadir a la lista de deseos   Comprar ', '    Ducray   Dexeryl Crema Barrera Aislante      10,50 €   -16% 12,40 €   Disponible    Añadir a la lista de deseos   Comprar ', '    Ducray   Dermalibour + Crema Reparadora      4,99 €   -21% 6,30 €   Disponible    Añadir a la lista de deseos   Comprar ', '    Ducray   Set Keracnyl PP Crema + Gel Limpiador      20,99 €   -21% 26,45 €   Disponible    Añadir a la lista de deseos   Comprar ', '    Ducray   Set Keracnyl Control + Gel Limpiador      20,99 €   -21% 26,45 €   Disponible    Añadir a la lista de deseos   Comprar ', '    Blistex   Lip Infusion Hydration SPF15 Bálsamo Labial      1,99 €     Disponible    Añadir a la lista de deseos   Comprar ', '    Blistex   Lip Infusion Nourish SPF15 Bálsamo Labial      1,99 €     Disponible    Añadir a la lista de deseos   Comprar ', '    Bio-Oil   Gel para Piel Seca    Desde   9,95 €   -20% 12,35 €   Disponible    Añadir a la lista de deseos    Ver opciones ', '    Eucerin   DermatoClean Hyaluron Espuma Micelar      10,99 €   -14% 12,75 €   Disponible    Añadir a la lista de deseos   Comprar ', '    Avene   Desodorante Roll On 24h Piel Sensible      7,95 €   -19% 9,75 €   Disponible    Añadir a la lista de deseos   Comprar ', '    Sesderma   Oceanskin Crema Facial Nutritiva      28,75 €   -16% 34,00 €   Disponible    Añadir a la lista de deseos   Comprar ', '    Beauty Drops   Vitamina C al 20% + Ácido Hialurónico      7,95 €   -28% 10,95 €   Disponible    Añadir a la lista de deseos   Comprar ', '    Belcils   Pack Cejas Perfectas      15,99 €     Disponible    Añadir a la lista de deseos   Comprar ', '    Belcils   Máscara Sublime      14,99 €   -17% 18,05 €   Disponible    Añadir a la lista de deseos   Comprar ', '    Sesderma   Juveneses Sebum Regulador      28,75 €   -21% 36,00 €   Disponible    Añadir a la lista de deseos   Comprar ', '    Sesderma   Hidraloe Contorno de Ojos      13,99 €   -14% 16,10 €   Disponible    Añadir a la lista de deseos   Comprar ']]\n"
     ]
    }
   ],
   "source": [
    "import itertools\n",
    "result = [list(v) for k,v in itertools.groupby(productos_juntos,key=str.isspace) if not k]\n",
    "\n",
    "print(result)"
   ]
  },
  {
   "cell_type": "code",
   "execution_count": 245,
   "metadata": {},
   "outputs": [
    {
     "data": {
      "text/html": [
       "<div>\n",
       "<style scoped>\n",
       "    .dataframe tbody tr th:only-of-type {\n",
       "        vertical-align: middle;\n",
       "    }\n",
       "\n",
       "    .dataframe tbody tr th {\n",
       "        vertical-align: top;\n",
       "    }\n",
       "\n",
       "    .dataframe thead th {\n",
       "        text-align: right;\n",
       "    }\n",
       "</style>\n",
       "<table border=\"1\" class=\"dataframe\">\n",
       "  <thead>\n",
       "    <tr style=\"text-align: right;\">\n",
       "      <th></th>\n",
       "      <th>0</th>\n",
       "      <th>1</th>\n",
       "      <th>2</th>\n",
       "      <th>3</th>\n",
       "      <th>4</th>\n",
       "      <th>5</th>\n",
       "      <th>6</th>\n",
       "      <th>7</th>\n",
       "      <th>8</th>\n",
       "      <th>9</th>\n",
       "      <th>10</th>\n",
       "      <th>11</th>\n",
       "    </tr>\n",
       "  </thead>\n",
       "  <tbody>\n",
       "    <tr>\n",
       "      <th>0</th>\n",
       "      <td></td>\n",
       "      <td></td>\n",
       "      <td>Sesderma</td>\n",
       "      <td>Hidraloe Contorno de Ojos</td>\n",
       "      <td></td>\n",
       "      <td></td>\n",
       "      <td>13,99 €</td>\n",
       "      <td>-14% 16,10 €</td>\n",
       "      <td>Disponible</td>\n",
       "      <td></td>\n",
       "      <td>Añadir a la lista de deseos</td>\n",
       "      <td>Comprar</td>\n",
       "    </tr>\n",
       "  </tbody>\n",
       "</table>\n",
       "</div>"
      ],
      "text/plain": [
       "  0  1         2                           3  4  5        6              7   \\\n",
       "0        Sesderma   Hidraloe Contorno de Ojos        13,99 €   -14% 16,10 €   \n",
       "\n",
       "            8  9                            10         11  \n",
       "0   Disponible     Añadir a la lista de deseos   Comprar   "
      ]
     },
     "execution_count": 245,
     "metadata": {},
     "output_type": "execute_result"
    }
   ],
   "source": [
    "df = pd.DataFrame(result)\n",
    "df"
   ]
  },
  {
   "cell_type": "code",
   "execution_count": null,
   "metadata": {},
   "outputs": [],
   "source": []
  }
 ],
 "metadata": {
  "kernelspec": {
   "display_name": "Python 3",
   "language": "python",
   "name": "python3"
  },
  "language_info": {
   "codemirror_mode": {
    "name": "ipython",
    "version": 3
   },
   "file_extension": ".py",
   "mimetype": "text/x-python",
   "name": "python",
   "nbconvert_exporter": "python",
   "pygments_lexer": "ipython3",
   "version": "3.8.5"
  }
 },
 "nbformat": 4,
 "nbformat_minor": 4
}
