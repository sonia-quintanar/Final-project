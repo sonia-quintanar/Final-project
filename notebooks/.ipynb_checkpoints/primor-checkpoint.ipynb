{
 "cells": [
  {
   "cell_type": "code",
   "execution_count": 2,
   "metadata": {},
   "outputs": [],
   "source": [
    "import requests\n",
    "from bs4 import BeautifulSoup\n",
    "import pandas as pd\n",
    "import json\n",
    "import numpy as np"
   ]
  },
  {
   "cell_type": "markdown",
   "metadata": {},
   "source": [
    "## Marcas"
   ]
  },
  {
   "cell_type": "code",
   "execution_count": 3,
   "metadata": {},
   "outputs": [],
   "source": [
    "def todoslosdatos():\n",
    "    marcas_todas = []\n",
    "    url = 'https://www.primor.eu/66-dermocosmetica'\n",
    "    response = requests.get(url).text\n",
    "    soup = BeautifulSoup(response,)\n",
    "    marcas = soup.find_all('h4',class_ = 'product-manufacturer')\n",
    "    marcas = [elemento.text.strip() for elemento in marcas]\n",
    "    marcas_todas.append(marcas)\n",
    "\n",
    "    for a in range (2,8):\n",
    "        url = f\"https://www.primor.eu/66-dermocosmetica?p={a}\"\n",
    "        response = requests.get(url).text\n",
    "        soup = BeautifulSoup(response,)\n",
    "        marcas = soup.find_all('h4',class_ = 'product-manufacturer')\n",
    "        marcas = [elemento.text.strip() for elemento in marcas]\n",
    "        marcas_todas.append(marcas)\n",
    "        \n",
    "    return [marca for sublista in marcas_todas for marca in sublista]"
   ]
  },
  {
   "cell_type": "code",
   "execution_count": 4,
   "metadata": {},
   "outputs": [],
   "source": [
    "lista_marcas = todoslosdatos()"
   ]
  },
  {
   "cell_type": "code",
   "execution_count": 5,
   "metadata": {},
   "outputs": [
    {
     "data": {
      "text/plain": [
       "['Sesderma',\n",
       " 'Sesderma',\n",
       " 'Sesderma',\n",
       " 'Sesderma',\n",
       " 'Klorane',\n",
       " 'Klorane',\n",
       " 'Avene',\n",
       " 'Ducray',\n",
       " 'Ducray',\n",
       " 'Ducray',\n",
       " 'Ducray',\n",
       " 'Ducray',\n",
       " 'Blistex',\n",
       " 'Blistex',\n",
       " 'Bio-Oil',\n",
       " 'Eucerin',\n",
       " 'Avene',\n",
       " 'Sesderma',\n",
       " 'Beauty Drops',\n",
       " 'Belcils',\n",
       " 'Belcils',\n",
       " 'Sesderma',\n",
       " 'Sesderma',\n",
       " 'Sesderma',\n",
       " 'Avene',\n",
       " 'Avene',\n",
       " 'Somatoline',\n",
       " 'Somatoline',\n",
       " 'Somatoline',\n",
       " 'Somatoline',\n",
       " 'Bioderma',\n",
       " 'Vichy',\n",
       " 'Weleda',\n",
       " 'Abbott',\n",
       " 'NeoStrata',\n",
       " 'NeoStrata',\n",
       " 'NeoStrata',\n",
       " 'Urgo',\n",
       " 'Lullage',\n",
       " 'Lullage',\n",
       " 'Nuxe',\n",
       " 'Bioderma',\n",
       " 'Bioderma',\n",
       " 'Bioderma',\n",
       " 'Bioderma',\n",
       " 'Bioderma',\n",
       " 'Bioderma',\n",
       " 'Bioderma',\n",
       " 'Bioderma',\n",
       " 'Nuxe',\n",
       " 'Nuxe',\n",
       " 'Nuxe',\n",
       " 'Nuxe',\n",
       " 'Nuxe',\n",
       " 'Nuxe',\n",
       " 'Bioderma',\n",
       " 'Bioderma',\n",
       " 'Bioderma',\n",
       " 'Bioderma',\n",
       " 'Nuxe',\n",
       " 'Nuxe',\n",
       " 'Nuxe',\n",
       " 'Nuxe',\n",
       " 'Sesderma',\n",
       " 'Sebamed',\n",
       " 'Nuggela & Sulé',\n",
       " 'Avene',\n",
       " 'Avene',\n",
       " 'Triconatura',\n",
       " 'Xhekpon',\n",
       " 'Klorane',\n",
       " 'Isdin',\n",
       " 'Isdin',\n",
       " 'Isdin',\n",
       " 'Isdin',\n",
       " 'Isdin',\n",
       " 'Elancyl',\n",
       " 'Suavinex',\n",
       " 'Remescar',\n",
       " 'Vichy',\n",
       " 'Ducray',\n",
       " 'Ducray',\n",
       " 'Vichy',\n",
       " 'Vichy',\n",
       " 'Vichy',\n",
       " 'Vichy',\n",
       " 'Ducray',\n",
       " 'A-Derma',\n",
       " 'Inibsa',\n",
       " 'Inibsa',\n",
       " 'Eucerin',\n",
       " 'Eucerin',\n",
       " 'Neutrogena',\n",
       " 'La Roche-Posay',\n",
       " 'La Roche-Posay',\n",
       " 'Deiters',\n",
       " 'Germinal',\n",
       " 'Germinal',\n",
       " 'Germinal',\n",
       " 'Germinal',\n",
       " 'Sesderma',\n",
       " 'Sesderma',\n",
       " 'Sesderma',\n",
       " 'Avene',\n",
       " 'Nutriceutics',\n",
       " 'Cumlaude',\n",
       " 'Avene',\n",
       " 'La Roche-Posay',\n",
       " 'Vichy',\n",
       " 'Eucerin',\n",
       " 'Vichy',\n",
       " 'Vichy',\n",
       " 'Vichy',\n",
       " 'The Ordinary',\n",
       " 'Avene',\n",
       " 'A-Derma',\n",
       " 'Germinal',\n",
       " 'Remescar',\n",
       " 'Avene',\n",
       " 'Avene',\n",
       " 'Avene',\n",
       " 'Vichy',\n",
       " 'Vichy',\n",
       " 'Arganour',\n",
       " 'Eucerin',\n",
       " 'Avene',\n",
       " 'Avene',\n",
       " 'Avene',\n",
       " 'Roc',\n",
       " 'Grisi',\n",
       " 'Germinal',\n",
       " 'Sesderma',\n",
       " 'Sesderma',\n",
       " 'Vichy',\n",
       " 'La Roche-Posay',\n",
       " 'Sesderma',\n",
       " 'Sesderma',\n",
       " 'Sesderma',\n",
       " 'Sesderma',\n",
       " 'Sesderma',\n",
       " 'Sesderma',\n",
       " 'La Roche-Posay',\n",
       " 'Avene',\n",
       " 'Avene',\n",
       " 'Germinal',\n",
       " 'La Roche-Posay',\n",
       " 'La Roche-Posay',\n",
       " 'Vichy',\n",
       " 'Xhekpon',\n",
       " 'Doctor Hauschka']"
      ]
     },
     "execution_count": 5,
     "metadata": {},
     "output_type": "execute_result"
    }
   ],
   "source": [
    "lista_marcas"
   ]
  },
  {
   "cell_type": "code",
   "execution_count": 6,
   "metadata": {},
   "outputs": [
    {
     "data": {
      "text/plain": [
       "150"
      ]
     },
     "execution_count": 6,
     "metadata": {},
     "output_type": "execute_result"
    }
   ],
   "source": [
    "len(lista_marcas)"
   ]
  },
  {
   "cell_type": "markdown",
   "metadata": {},
   "source": [
    "### Productos"
   ]
  },
  {
   "cell_type": "code",
   "execution_count": 7,
   "metadata": {},
   "outputs": [],
   "source": [
    "def todoslosdatos():\n",
    "    productos_todos = []\n",
    "    url = 'https://www.primor.eu/66-dermocosmetica'\n",
    "    response = requests.get(url).text\n",
    "    soup = BeautifulSoup(response,)\n",
    "    productos = soup.find_all('h5',class_ = 'product-name')\n",
    "    productos = [elemento.text.strip() for elemento in productos]\n",
    "    productos_todos.append(productos)\n",
    "\n",
    "    for a in range (2,8):\n",
    "        url = f\"https://www.primor.eu/66-dermocosmetica?p={a}\"\n",
    "        response = requests.get(url).text\n",
    "        soup = BeautifulSoup(response,)\n",
    "        productos = soup.find_all('h5',class_ = 'product-name')\n",
    "        productos = [elemento.text.strip() for elemento in productos]\n",
    "        productos_todos.append(productos)\n",
    "        \n",
    "    return [producto for sublista in productos_todos for producto in sublista]"
   ]
  },
  {
   "cell_type": "code",
   "execution_count": 8,
   "metadata": {},
   "outputs": [],
   "source": [
    "lista_productos = todoslosdatos()"
   ]
  },
  {
   "cell_type": "code",
   "execution_count": 9,
   "metadata": {},
   "outputs": [
    {
     "data": {
      "text/plain": [
       "['Serenity Bruma Rostro y Almohada',\n",
       " 'Serenity Sérum Liposomal Noche...',\n",
       " 'Serenity Mascarilla Facial Nocturna...',\n",
       " 'Serenity Crema de Noche Antienvejecimiento',\n",
       " 'Gel Crema Hidratante con Agua de Aciano',\n",
       " 'Bruma Corporal Hidratante de Peonía',\n",
       " 'Cicalfate Gel para Cicatrices',\n",
       " 'Set Keracnyl Sérum + Gel Limpiador',\n",
       " 'Dexeryl Crema Barrera Aislante',\n",
       " 'Dermalibour + Crema Reparadora',\n",
       " 'Set Keracnyl PP Crema + Gel Limpiador',\n",
       " 'Set Keracnyl Control + Gel Limpiador',\n",
       " 'Lip Infusion Hydration SPF15 Bálsamo Labial',\n",
       " 'Lip Infusion Nourish SPF15 Bálsamo Labial',\n",
       " 'Gel para Piel Seca',\n",
       " 'DermatoClean Hyaluron Espuma Micelar',\n",
       " 'Desodorante Roll On 24h Piel Sensible',\n",
       " 'Oceanskin Crema Facial Nutritiva',\n",
       " 'Vitamina C al 20% + Ácido Hialurónico',\n",
       " 'Pack Cejas Perfectas',\n",
       " 'Máscara Sublime',\n",
       " 'Juveneses Sebum Regulador',\n",
       " 'Hidraloe Contorno de Ojos',\n",
       " 'Factor G Ampollas Bioestimulantes',\n",
       " 'Cleanance Women Cuidado Facial Nocturno...',\n",
       " 'Cleanance Women Sérum Corrector',\n",
       " 'Hombre Abdominales Top Definition',\n",
       " 'Reductor 7 Noches Natural',\n",
       " 'Hombre Cintura y Abdomen Intensivo',\n",
       " 'Anticelulítico Gel Crioactivo',\n",
       " 'Photerpes Stick Labial Solar SPF50+',\n",
       " 'Minéral 89 Mascarilla Fortificante de...',\n",
       " 'Gel de Baño Tonificante de Romero',\n",
       " 'Genove Gel Dermatológico Nutritivo e...',\n",
       " 'Espuma Facial Exfoliante',\n",
       " 'Skin Active Cellular Sérum Reafirmante',\n",
       " 'Gel Despigmentante Forte',\n",
       " 'Crema Cicatrices',\n",
       " 'RougeXpert Fluido 360º Tratamiento Intensivo',\n",
       " 'RougeXpert Spray Calmante Instantáneo',\n",
       " 'Aceite Hidratante Huile Prodigieuse Or',\n",
       " 'Sensibio Tolerance+ Hipersensibilidad Cutánea',\n",
       " 'Sensibio AR BB Cream',\n",
       " 'Sebium Gel Moussant Limpiador Purificante',\n",
       " 'Sensibio Forte Crema Calmante',\n",
       " 'Sébium Agua Micelar Piel Acnéica',\n",
       " 'Sébium Sensitive Calmante Anti-imperfecciones',\n",
       " 'Hydrabio Crema Hidratante',\n",
       " 'Pigmentbio Crema Regeneradora Antimanchas',\n",
       " 'Nuxe Body Gel de Ducha Fundente',\n",
       " 'Nuxe Body Agua Relajante Perfumada',\n",
       " 'Nuxellence Sérum Noche Antiedad Detox',\n",
       " 'Crème Fraîche® de Beauté Mascarilla Facial...',\n",
       " 'Aquabella Loción Esencia Renovadora de...',\n",
       " 'Aquabella Gel Purificante Micro-exfoliante',\n",
       " 'Pigmentbio H2O Solución Micelar Iluminadora',\n",
       " 'Pigmentbio Limpiador Iluminador Foaming Cream',\n",
       " 'Pigmentbio Crema Hidratante Daily care SPF...',\n",
       " 'Pigmentbio C-Concentrate Sérum...',\n",
       " 'Nuxuriance Ultra Crema Rica Redensificante...',\n",
       " 'Merveillance Expert Contorno de Ojos',\n",
       " 'Merveillance Expert Crema Enriquecida...',\n",
       " 'Merveillance Expert Crema Lift-Firmeza',\n",
       " 'Sesgen 32 Crema Gel Activador Celular',\n",
       " 'Loción Corporal Enriquecida Pieles Secas y...',\n",
       " 'Sérum Densificador Cejas+ Cepillo',\n",
       " 'A-Oxitive Serum Defensa Antioxidante',\n",
       " 'A-Oxitive Aqua Crema Alisadora',\n",
       " 'Gel Anticelulítico Reafirmante Reductor',\n",
       " 'Máscara de Colágeno Tensor',\n",
       " 'BB Contorno de Ojos Calmante',\n",
       " 'Acniben RX Repair Limpiador Facial...',\n",
       " 'Acniben RX Gel Crema Hidratante',\n",
       " 'Ureadin Crema Manos Reparadora',\n",
       " 'Ureadin Pack Crema Antiarrugas + Contorno...',\n",
       " 'Acniben Limpiador Purificante',\n",
       " 'Tratamiento Anticelulítico',\n",
       " 'Reafirmante Corporal',\n",
       " 'Sérum con Vitamina C y Ácido Hialurónico',\n",
       " 'Normaderm S.O.S',\n",
       " 'Exomega Set Leche Emoliente y Aceite...',\n",
       " 'Exoderma Set Crema Emoliente y Aceite...',\n",
       " 'Liftactiv Specialist Glyc-C Ampollas...',\n",
       " 'LiftActiv Specialist Péptido Ampollas...',\n",
       " 'Normaderm Gel Limpiador Purificante Intenso',\n",
       " 'Normaderm Tónico Purificante',\n",
       " 'Bálsamo Labial',\n",
       " 'Crema Hidratante Compensadora Phys-Ac',\n",
       " 'Leche Corporal Hidratante Dermatológica',\n",
       " 'Gel Corporal Dermatológico',\n",
       " 'Atopicontrol Crema Forte',\n",
       " 'Mascarilla Facial Intensiva Antiedad',\n",
       " 'Hydro Boost Limpiador Agua Micelar',\n",
       " 'Lipikar Aceite de Ducha',\n",
       " 'Tolériane Ultra 8 Concentrado Hidratante...',\n",
       " 'Aceite de Rosa Mosqueta 100% Puro',\n",
       " 'Crema de Día Nutrición Celular Intensiva',\n",
       " 'Acción Profunda Ampollas Antioxidantes Noche',\n",
       " 'Acción Profunda Ampollas Antioxidantes...',\n",
       " 'Essencial Nutriplus Crema Antiedad de Noche',\n",
       " 'Sesretinal Young Gel Hidratante Plus',\n",
       " 'Reti Age Crema Gel Antienvejecimiento',\n",
       " 'Crema Hidratante Acglicolic Classic SPF15',\n",
       " 'Neceser Couvrance Polvo Mosaico Bronceador...',\n",
       " 'Wrinkles Away Vitaminas Piel Joven',\n",
       " 'Regenerum Gel',\n",
       " 'Couvrance Polvos Iluminadores',\n",
       " 'Redermic Pure Vitamin C10 sérum',\n",
       " 'Mineral Blend Base de Maquillaje',\n",
       " 'DermoPure Oil Control Stick Corrector',\n",
       " 'Liftactiv Hyalu Mask',\n",
       " 'Liftactiv Collagen Specialist',\n",
       " 'Liftactiv Vitamina C Concentrado...',\n",
       " 'B Oil',\n",
       " 'Les Essentiels Sérum Luminosidad',\n",
       " 'Gel de Ducha Hidroprotector',\n",
       " 'Contorno de Ojos Bolsas y Ojeras',\n",
       " 'Párpados Caídos',\n",
       " 'Couvrance Polvos Mosaico Translúcidos',\n",
       " 'Hydrance Perfeccionadora del Tono Enriquecida',\n",
       " 'Hydrance Perfeccionadora del Tono Ligera',\n",
       " 'Dermablend Corrección 3D',\n",
       " 'Normaderm Embellecedor Anti Imperfecciones',\n",
       " 'Aceite Puro de Semillas de Higo Chumbo Bio',\n",
       " 'Hyaluron Filler Cc Cream',\n",
       " 'Couvrance Maquillaje Fluido',\n",
       " 'Couvrance Crema Compacta Acabado Mate',\n",
       " 'Couvrance Crema Compacta Enriquecida',\n",
       " 'Pro Calm Crema Calmante Reconfortante',\n",
       " 'Leche de Burra Dermojabón',\n",
       " 'Ampollas Flash Acción Inmediata',\n",
       " 'Glicare Gel Contorno de Ojos Y Labios',\n",
       " 'Daeses Liposomal Serum',\n",
       " 'Liftactiv Flexilift Base de Maquillaje',\n",
       " 'Toleriane Ultra Contorno de Ojos',\n",
       " 'Daeses Crema Gel Reafirmante Facial',\n",
       " 'C-vit Radiance Fluido Luminoso',\n",
       " 'C-vit Liposomal Serum',\n",
       " 'C-Vit Crema Facial Hidratante',\n",
       " 'Acglicolic 20 Gel Hidratante',\n",
       " 'Acglicolic 20 Crema Gel Hidratante',\n",
       " 'Rosaliac Cc Cream',\n",
       " 'Toleriane Fluido',\n",
       " 'Couvrance Polvos Bronceadores',\n",
       " 'Accion Inmediata Pieles Secas',\n",
       " 'Toleriane Fluido',\n",
       " 'Hydreane Bb',\n",
       " 'Dermablend Base de Maquillaje Correctora',\n",
       " 'Crema',\n",
       " 'Mascarilla Rejuvenecedora']"
      ]
     },
     "execution_count": 9,
     "metadata": {},
     "output_type": "execute_result"
    }
   ],
   "source": [
    "lista_productos"
   ]
  },
  {
   "cell_type": "code",
   "execution_count": 10,
   "metadata": {},
   "outputs": [
    {
     "data": {
      "text/plain": [
       "150"
      ]
     },
     "execution_count": 10,
     "metadata": {},
     "output_type": "execute_result"
    }
   ],
   "source": [
    "len(lista_productos)"
   ]
  },
  {
   "cell_type": "markdown",
   "metadata": {},
   "source": [
    "### Precios"
   ]
  },
  {
   "cell_type": "code",
   "execution_count": 11,
   "metadata": {},
   "outputs": [],
   "source": [
    "def todoslosdatos():\n",
    "    precios_todos = []\n",
    "    url = 'https://www.primor.eu/66-dermocosmetica'\n",
    "    response = requests.get(url).text\n",
    "    soup = BeautifulSoup(response,)\n",
    "    precios = soup.find_all('span', class_='price product-price pull-left')\n",
    "    precios = [elemento.text.strip() for elemento in precios]\n",
    "    precios_todos.append(precios)\n",
    "\n",
    "    for a in range (2,8):\n",
    "        url = f\"https://www.primor.eu/66-dermocosmetica?p={a}\"\n",
    "        response = requests.get(url).text\n",
    "        soup = BeautifulSoup(response,)\n",
    "        precios = soup.find_all('span', class_='price product-price pull-left')\n",
    "        precios = [elemento.text.strip() for elemento in precios]\n",
    "        precios_todos.append(precios)\n",
    "        \n",
    "    return [precio for sublista in precios_todos for precio in sublista]"
   ]
  },
  {
   "cell_type": "code",
   "execution_count": 12,
   "metadata": {},
   "outputs": [],
   "source": [
    "lista_precios = todoslosdatos()"
   ]
  },
  {
   "cell_type": "code",
   "execution_count": 13,
   "metadata": {},
   "outputs": [
    {
     "data": {
      "text/plain": [
       "['21,50 €',\n",
       " '34,99 €',\n",
       " '25,99 €',\n",
       " '29,99 €',\n",
       " '21,99 €',\n",
       " '11,75 €',\n",
       " '10,99 €',\n",
       " '25,50 €',\n",
       " '10,50 €',\n",
       " '4,99 €',\n",
       " '20,99 €',\n",
       " '20,99 €',\n",
       " '1,99 €',\n",
       " '1,99 €',\n",
       " 'Desde   9,95 €',\n",
       " '10,99 €',\n",
       " '7,95 €',\n",
       " '28,75 €',\n",
       " '7,95 €',\n",
       " '15,99 €',\n",
       " '14,99 €',\n",
       " '28,75 €',\n",
       " '13,99 €',\n",
       " '19,99 €',\n",
       " '22,50 €',\n",
       " '22,50 €',\n",
       " '49,99 €',\n",
       " '39,99 €',\n",
       " '42,99 €',\n",
       " '32,75 €',\n",
       " '11,99 €',\n",
       " '4,95 €',\n",
       " '15,99 €',\n",
       " '4,95 €',\n",
       " '31,90 €',\n",
       " '53,50 €',\n",
       " '29,99 €',\n",
       " '12,99 €',\n",
       " '27,50 €',\n",
       " '11,75 €',\n",
       " '19,99 €',\n",
       " '18,99 €',\n",
       " '16,99 €',\n",
       " '8,95 €',\n",
       " '17,99 €',\n",
       " '5,95 €',\n",
       " '11,99 €',\n",
       " '18,99 €',\n",
       " '21,50 €',\n",
       " '7,95 €',\n",
       " '26,50 €',\n",
       " '45,99 €',\n",
       " '16,99 €',\n",
       " '13,99 €',\n",
       " '11,99 €',\n",
       " '10,99 €',\n",
       " '11,99 €',\n",
       " '21,50 €',\n",
       " '24,50 €',\n",
       " '45,99 €',\n",
       " '32,75 €',\n",
       " '39,99 €',\n",
       " '39,99 €',\n",
       " '45,99 €',\n",
       " '26,99 €',\n",
       " '33,95 €',\n",
       " '35,99 €',\n",
       " '31,90 €',\n",
       " '12,99 €',\n",
       " '17,99 €',\n",
       " '13,99 €',\n",
       " '15,95 €',\n",
       " '14,75 €',\n",
       " '10,50 €',\n",
       " '20,99 €',\n",
       " '14,99 €',\n",
       " '30,99 €',\n",
       " '13,99 €',\n",
       " '19,99 €',\n",
       " '16,99 €',\n",
       " '14,99 €',\n",
       " '14,99 €',\n",
       " 'Desde   41,99 €',\n",
       " 'Desde   41,99 €',\n",
       " 'Desde   13,99 €',\n",
       " '9,95 €',\n",
       " '6,95 €',\n",
       " '11,99 €',\n",
       " '3,99 €',\n",
       " '3,25 €',\n",
       " '15,95 €',\n",
       " '7,50 €',\n",
       " '11,50 €',\n",
       " '17,99 €',\n",
       " '18,99 €',\n",
       " '9,50 €',\n",
       " '19,99 €',\n",
       " '27,50 €',\n",
       " '18,99 €',\n",
       " '26,50 €',\n",
       " '45,99 €',\n",
       " '45,99 €',\n",
       " '36,99 €',\n",
       " '35,99 €',\n",
       " '9,95 €',\n",
       " '11,99 €',\n",
       " '18,99 €',\n",
       " '39,99 €',\n",
       " 'Desde   16,99 €',\n",
       " '12,99 €',\n",
       " '31,99 €',\n",
       " '29,75 €',\n",
       " '26,50 €',\n",
       " '9,20 €',\n",
       " '27,50 €',\n",
       " 'Desde   17,99 €',\n",
       " '19,99 €',\n",
       " '29,99 €',\n",
       " '18,99 €',\n",
       " '18,99 €',\n",
       " '18,99 €',\n",
       " 'Desde   19,95 €',\n",
       " '16,99 €',\n",
       " '19,95 €',\n",
       " '27,99 €',\n",
       " 'Desde   15,99 €',\n",
       " '18,99 €',\n",
       " 'Desde   18,99 €',\n",
       " '13,75 €',\n",
       " '3,95 €',\n",
       " '15,99 €',\n",
       " '19,99 €',\n",
       " '36,99 €',\n",
       " '19,95 €',\n",
       " '16,99 €',\n",
       " '36,99 €',\n",
       " '29,99 €',\n",
       " '29,99 €',\n",
       " '29,99 €',\n",
       " '36,99 €',\n",
       " '38,90 €',\n",
       " '17,99 €',\n",
       " 'Desde   14,99 €',\n",
       " '18,99 €',\n",
       " '10,99 €',\n",
       " 'Desde   14,99 €',\n",
       " 'Desde   12,99 €',\n",
       " 'Desde   15,99 €',\n",
       " '4,95 €',\n",
       " '27,99 €']"
      ]
     },
     "execution_count": 13,
     "metadata": {},
     "output_type": "execute_result"
    }
   ],
   "source": [
    "lista_precios"
   ]
  },
  {
   "cell_type": "code",
   "execution_count": 14,
   "metadata": {},
   "outputs": [
    {
     "data": {
      "text/plain": [
       "150"
      ]
     },
     "execution_count": 14,
     "metadata": {},
     "output_type": "execute_result"
    }
   ],
   "source": [
    "len(lista_precios)"
   ]
  },
  {
   "cell_type": "code",
   "execution_count": 16,
   "metadata": {},
   "outputs": [
    {
     "data": {
      "text/plain": [
       "'1,99 €'"
      ]
     },
     "execution_count": 16,
     "metadata": {},
     "output_type": "execute_result"
    }
   ],
   "source": [
    "min(lista_precios)"
   ]
  },
  {
   "cell_type": "code",
   "execution_count": 18,
   "metadata": {},
   "outputs": [
    {
     "data": {
      "text/html": [
       "<div>\n",
       "<style scoped>\n",
       "    .dataframe tbody tr th:only-of-type {\n",
       "        vertical-align: middle;\n",
       "    }\n",
       "\n",
       "    .dataframe tbody tr th {\n",
       "        vertical-align: top;\n",
       "    }\n",
       "\n",
       "    .dataframe thead th {\n",
       "        text-align: right;\n",
       "    }\n",
       "</style>\n",
       "<table border=\"1\" class=\"dataframe\">\n",
       "  <thead>\n",
       "    <tr style=\"text-align: right;\">\n",
       "      <th></th>\n",
       "      <th>Marca</th>\n",
       "      <th>Nombre</th>\n",
       "      <th>Precio</th>\n",
       "    </tr>\n",
       "  </thead>\n",
       "  <tbody>\n",
       "    <tr>\n",
       "      <th>0</th>\n",
       "      <td>Sesderma</td>\n",
       "      <td>Serenity Bruma Rostro y Almohada</td>\n",
       "      <td>21,50 €</td>\n",
       "    </tr>\n",
       "    <tr>\n",
       "      <th>1</th>\n",
       "      <td>Sesderma</td>\n",
       "      <td>Serenity Sérum Liposomal Noche...</td>\n",
       "      <td>34,99 €</td>\n",
       "    </tr>\n",
       "    <tr>\n",
       "      <th>2</th>\n",
       "      <td>Sesderma</td>\n",
       "      <td>Serenity Mascarilla Facial Nocturna...</td>\n",
       "      <td>25,99 €</td>\n",
       "    </tr>\n",
       "    <tr>\n",
       "      <th>3</th>\n",
       "      <td>Sesderma</td>\n",
       "      <td>Serenity Crema de Noche Antienvejecimiento</td>\n",
       "      <td>29,99 €</td>\n",
       "    </tr>\n",
       "    <tr>\n",
       "      <th>4</th>\n",
       "      <td>Klorane</td>\n",
       "      <td>Gel Crema Hidratante con Agua de Aciano</td>\n",
       "      <td>21,99 €</td>\n",
       "    </tr>\n",
       "    <tr>\n",
       "      <th>...</th>\n",
       "      <td>...</td>\n",
       "      <td>...</td>\n",
       "      <td>...</td>\n",
       "    </tr>\n",
       "    <tr>\n",
       "      <th>145</th>\n",
       "      <td>La Roche-Posay</td>\n",
       "      <td>Toleriane Fluido</td>\n",
       "      <td>Desde   14,99 €</td>\n",
       "    </tr>\n",
       "    <tr>\n",
       "      <th>146</th>\n",
       "      <td>La Roche-Posay</td>\n",
       "      <td>Hydreane Bb</td>\n",
       "      <td>Desde   12,99 €</td>\n",
       "    </tr>\n",
       "    <tr>\n",
       "      <th>147</th>\n",
       "      <td>Vichy</td>\n",
       "      <td>Dermablend Base de Maquillaje Correctora</td>\n",
       "      <td>Desde   15,99 €</td>\n",
       "    </tr>\n",
       "    <tr>\n",
       "      <th>148</th>\n",
       "      <td>Xhekpon</td>\n",
       "      <td>Crema</td>\n",
       "      <td>4,95 €</td>\n",
       "    </tr>\n",
       "    <tr>\n",
       "      <th>149</th>\n",
       "      <td>Doctor Hauschka</td>\n",
       "      <td>Mascarilla Rejuvenecedora</td>\n",
       "      <td>27,99 €</td>\n",
       "    </tr>\n",
       "  </tbody>\n",
       "</table>\n",
       "<p>150 rows × 3 columns</p>\n",
       "</div>"
      ],
      "text/plain": [
       "               Marca                                      Nombre  \\\n",
       "0           Sesderma            Serenity Bruma Rostro y Almohada   \n",
       "1           Sesderma           Serenity Sérum Liposomal Noche...   \n",
       "2           Sesderma      Serenity Mascarilla Facial Nocturna...   \n",
       "3           Sesderma  Serenity Crema de Noche Antienvejecimiento   \n",
       "4            Klorane     Gel Crema Hidratante con Agua de Aciano   \n",
       "..               ...                                         ...   \n",
       "145   La Roche-Posay                            Toleriane Fluido   \n",
       "146   La Roche-Posay                                 Hydreane Bb   \n",
       "147            Vichy    Dermablend Base de Maquillaje Correctora   \n",
       "148          Xhekpon                                       Crema   \n",
       "149  Doctor Hauschka                   Mascarilla Rejuvenecedora   \n",
       "\n",
       "              Precio  \n",
       "0            21,50 €  \n",
       "1            34,99 €  \n",
       "2            25,99 €  \n",
       "3            29,99 €  \n",
       "4            21,99 €  \n",
       "..               ...  \n",
       "145  Desde   14,99 €  \n",
       "146  Desde   12,99 €  \n",
       "147  Desde   15,99 €  \n",
       "148           4,95 €  \n",
       "149          27,99 €  \n",
       "\n",
       "[150 rows x 3 columns]"
      ]
     },
     "execution_count": 18,
     "metadata": {},
     "output_type": "execute_result"
    }
   ],
   "source": [
    "df = {'Marca': lista_marcas,\n",
    "            'Nombre' : lista_productos,\n",
    "            'Precio': lista_precios}\n",
    "df = pd.DataFrame(df, columns = ['Marca', 'Nombre', 'Precio'])\n",
    "df"
   ]
  },
  {
   "cell_type": "code",
   "execution_count": 22,
   "metadata": {},
   "outputs": [
    {
     "ename": "TypeError",
     "evalue": "Could not convert 21,50 €34,99 €25,99 €29,99 €21,99 €11,75 €10,99 €25,50 €10,50 €4,99 €20,99 €20,99 €1,99 €1,99 €Desde   9,95 €10,99 €7,95 €28,75 €7,95 €15,99 €14,99 €28,75 €13,99 €19,99 €22,50 €22,50 €49,99 €39,99 €42,99 €32,75 €11,99 €4,95 €15,99 €4,95 €31,90 €53,50 €29,99 €12,99 €27,50 €11,75 €19,99 €18,99 €16,99 €8,95 €17,99 €5,95 €11,99 €18,99 €21,50 €7,95 €26,50 €45,99 €16,99 €13,99 €11,99 €10,99 €11,99 €21,50 €24,50 €45,99 €32,75 €39,99 €39,99 €45,99 €26,99 €33,95 €35,99 €31,90 €12,99 €17,99 €13,99 €15,95 €14,75 €10,50 €20,99 €14,99 €30,99 €13,99 €19,99 €16,99 €14,99 €14,99 €Desde   41,99 €Desde   41,99 €Desde   13,99 €9,95 €6,95 €11,99 €3,99 €3,25 €15,95 €7,50 €11,50 €17,99 €18,99 €9,50 €19,99 €27,50 €18,99 €26,50 €45,99 €45,99 €36,99 €35,99 €9,95 €11,99 €18,99 €39,99 €Desde   16,99 €12,99 €31,99 €29,75 €26,50 €9,20 €27,50 €Desde   17,99 €19,99 €29,99 €18,99 €18,99 €18,99 €Desde   19,95 €16,99 €19,95 €27,99 €Desde   15,99 €18,99 €Desde   18,99 €13,75 €3,95 €15,99 €19,99 €36,99 €19,95 €16,99 €36,99 €29,99 €29,99 €29,99 €36,99 €38,90 €17,99 €Desde   14,99 €18,99 €10,99 €Desde   14,99 €Desde   12,99 €Desde   15,99 €4,95 €27,99 € to numeric",
     "output_type": "error",
     "traceback": [
      "\u001b[0;31m---------------------------------------------------------------------------\u001b[0m",
      "\u001b[0;31mValueError\u001b[0m                                Traceback (most recent call last)",
      "\u001b[0;32m/usr/local/lib/python3.8/site-packages/pandas/core/nanops.py\u001b[0m in \u001b[0;36m_ensure_numeric\u001b[0;34m(x)\u001b[0m\n\u001b[1;32m   1426\u001b[0m         \u001b[0;32mtry\u001b[0m\u001b[0;34m:\u001b[0m\u001b[0;34m\u001b[0m\u001b[0;34m\u001b[0m\u001b[0m\n\u001b[0;32m-> 1427\u001b[0;31m             \u001b[0mx\u001b[0m \u001b[0;34m=\u001b[0m \u001b[0mfloat\u001b[0m\u001b[0;34m(\u001b[0m\u001b[0mx\u001b[0m\u001b[0;34m)\u001b[0m\u001b[0;34m\u001b[0m\u001b[0;34m\u001b[0m\u001b[0m\n\u001b[0m\u001b[1;32m   1428\u001b[0m         \u001b[0;32mexcept\u001b[0m \u001b[0mValueError\u001b[0m\u001b[0;34m:\u001b[0m\u001b[0;34m\u001b[0m\u001b[0;34m\u001b[0m\u001b[0m\n",
      "\u001b[0;31mValueError\u001b[0m: could not convert string to float: '21,50 €34,99 €25,99 €29,99 €21,99 €11,75 €10,99 €25,50 €10,50 €4,99 €20,99 €20,99 €1,99 €1,99 €Desde   9,95 €10,99 €7,95 €28,75 €7,95 €15,99 €14,99 €28,75 €13,99 €19,99 €22,50 €22,50 €49,99 €39,99 €42,99 €32,75 €11,99 €4,95 €15,99 €4,95 €31,90 €53,50 €29,99 €12,99 €27,50 €11,75 €19,99 €18,99 €16,99 €8,95 €17,99 €5,95 €11,99 €18,99 €21,50 €7,95 €26,50 €45,99 €16,99 €13,99 €11,99 €10,99 €11,99 €21,50 €24,50 €45,99 €32,75 €39,99 €39,99 €45,99 €26,99 €33,95 €35,99 €31,90 €12,99 €17,99 €13,99 €15,95 €14,75 €10,50 €20,99 €14,99 €30,99 €13,99 €19,99 €16,99 €14,99 €14,99 €Desde   41,99 €Desde   41,99 €Desde   13,99 €9,95 €6,95 €11,99 €3,99 €3,25 €15,95 €7,50 €11,50 €17,99 €18,99 €9,50 €19,99 €27,50 €18,99 €26,50 €45,99 €45,99 €36,99 €35,99 €9,95 €11,99 €18,99 €39,99 €Desde   16,99 €12,99 €31,99 €29,75 €26,50 €9,20 €27,50 €Desde   17,99 €19,99 €29,99 €18,99 €18,99 €18,99 €Desde   19,95 €16,99 €19,95 €27,99 €Desde   15,99 €18,99 €Desde   18,99 €13,75 €3,95 €15,99 €19,99 €36,99 €19,95 €16,99 €36,99 €29,99 €29,99 €29,99 €36,99 €38,90 €17,99 €Desde   14,99 €18,99 €10,99 €Desde   14,99 €Desde   12,99 €Desde   15,99 €4,95 €27,99 €'",
      "\nDuring handling of the above exception, another exception occurred:\n",
      "\u001b[0;31mValueError\u001b[0m                                Traceback (most recent call last)",
      "\u001b[0;32m/usr/local/lib/python3.8/site-packages/pandas/core/nanops.py\u001b[0m in \u001b[0;36m_ensure_numeric\u001b[0;34m(x)\u001b[0m\n\u001b[1;32m   1430\u001b[0m             \u001b[0;32mtry\u001b[0m\u001b[0;34m:\u001b[0m\u001b[0;34m\u001b[0m\u001b[0;34m\u001b[0m\u001b[0m\n\u001b[0;32m-> 1431\u001b[0;31m                 \u001b[0mx\u001b[0m \u001b[0;34m=\u001b[0m \u001b[0mcomplex\u001b[0m\u001b[0;34m(\u001b[0m\u001b[0mx\u001b[0m\u001b[0;34m)\u001b[0m\u001b[0;34m\u001b[0m\u001b[0;34m\u001b[0m\u001b[0m\n\u001b[0m\u001b[1;32m   1432\u001b[0m             \u001b[0;32mexcept\u001b[0m \u001b[0mValueError\u001b[0m \u001b[0;32mas\u001b[0m \u001b[0merr\u001b[0m\u001b[0;34m:\u001b[0m\u001b[0;34m\u001b[0m\u001b[0;34m\u001b[0m\u001b[0m\n",
      "\u001b[0;31mValueError\u001b[0m: complex() arg is a malformed string",
      "\nThe above exception was the direct cause of the following exception:\n",
      "\u001b[0;31mTypeError\u001b[0m                                 Traceback (most recent call last)",
      "\u001b[0;32m<ipython-input-22-bb0ee512b8f4>\u001b[0m in \u001b[0;36m<module>\u001b[0;34m\u001b[0m\n\u001b[0;32m----> 1\u001b[0;31m \u001b[0mmean_df\u001b[0m \u001b[0;34m=\u001b[0m \u001b[0mdf\u001b[0m\u001b[0;34m[\u001b[0m\u001b[0;34m'Precio'\u001b[0m\u001b[0;34m]\u001b[0m\u001b[0;34m.\u001b[0m\u001b[0mmean\u001b[0m\u001b[0;34m(\u001b[0m\u001b[0;34m)\u001b[0m\u001b[0;34m\u001b[0m\u001b[0;34m\u001b[0m\u001b[0m\n\u001b[0m\u001b[1;32m      2\u001b[0m \u001b[0mprint\u001b[0m\u001b[0;34m(\u001b[0m\u001b[0mmean_df\u001b[0m\u001b[0;34m)\u001b[0m\u001b[0;34m\u001b[0m\u001b[0;34m\u001b[0m\u001b[0m\n",
      "\u001b[0;32m/usr/local/lib/python3.8/site-packages/pandas/core/generic.py\u001b[0m in \u001b[0;36mstat_func\u001b[0;34m(self, axis, skipna, level, numeric_only, **kwargs)\u001b[0m\n\u001b[1;32m  11466\u001b[0m         \u001b[0;32mif\u001b[0m \u001b[0mlevel\u001b[0m \u001b[0;32mis\u001b[0m \u001b[0;32mnot\u001b[0m \u001b[0;32mNone\u001b[0m\u001b[0;34m:\u001b[0m\u001b[0;34m\u001b[0m\u001b[0;34m\u001b[0m\u001b[0m\n\u001b[1;32m  11467\u001b[0m             \u001b[0;32mreturn\u001b[0m \u001b[0mself\u001b[0m\u001b[0;34m.\u001b[0m\u001b[0m_agg_by_level\u001b[0m\u001b[0;34m(\u001b[0m\u001b[0mname\u001b[0m\u001b[0;34m,\u001b[0m \u001b[0maxis\u001b[0m\u001b[0;34m=\u001b[0m\u001b[0maxis\u001b[0m\u001b[0;34m,\u001b[0m \u001b[0mlevel\u001b[0m\u001b[0;34m=\u001b[0m\u001b[0mlevel\u001b[0m\u001b[0;34m,\u001b[0m \u001b[0mskipna\u001b[0m\u001b[0;34m=\u001b[0m\u001b[0mskipna\u001b[0m\u001b[0;34m)\u001b[0m\u001b[0;34m\u001b[0m\u001b[0;34m\u001b[0m\u001b[0m\n\u001b[0;32m> 11468\u001b[0;31m         return self._reduce(\n\u001b[0m\u001b[1;32m  11469\u001b[0m             \u001b[0mfunc\u001b[0m\u001b[0;34m,\u001b[0m \u001b[0mname\u001b[0m\u001b[0;34m=\u001b[0m\u001b[0mname\u001b[0m\u001b[0;34m,\u001b[0m \u001b[0maxis\u001b[0m\u001b[0;34m=\u001b[0m\u001b[0maxis\u001b[0m\u001b[0;34m,\u001b[0m \u001b[0mskipna\u001b[0m\u001b[0;34m=\u001b[0m\u001b[0mskipna\u001b[0m\u001b[0;34m,\u001b[0m \u001b[0mnumeric_only\u001b[0m\u001b[0;34m=\u001b[0m\u001b[0mnumeric_only\u001b[0m\u001b[0;34m\u001b[0m\u001b[0;34m\u001b[0m\u001b[0m\n\u001b[1;32m  11470\u001b[0m         )\n",
      "\u001b[0;32m/usr/local/lib/python3.8/site-packages/pandas/core/series.py\u001b[0m in \u001b[0;36m_reduce\u001b[0;34m(self, op, name, axis, skipna, numeric_only, filter_type, **kwds)\u001b[0m\n\u001b[1;32m   4234\u001b[0m                 )\n\u001b[1;32m   4235\u001b[0m             \u001b[0;32mwith\u001b[0m \u001b[0mnp\u001b[0m\u001b[0;34m.\u001b[0m\u001b[0merrstate\u001b[0m\u001b[0;34m(\u001b[0m\u001b[0mall\u001b[0m\u001b[0;34m=\u001b[0m\u001b[0;34m\"ignore\"\u001b[0m\u001b[0;34m)\u001b[0m\u001b[0;34m:\u001b[0m\u001b[0;34m\u001b[0m\u001b[0;34m\u001b[0m\u001b[0m\n\u001b[0;32m-> 4236\u001b[0;31m                 \u001b[0;32mreturn\u001b[0m \u001b[0mop\u001b[0m\u001b[0;34m(\u001b[0m\u001b[0mdelegate\u001b[0m\u001b[0;34m,\u001b[0m \u001b[0mskipna\u001b[0m\u001b[0;34m=\u001b[0m\u001b[0mskipna\u001b[0m\u001b[0;34m,\u001b[0m \u001b[0;34m**\u001b[0m\u001b[0mkwds\u001b[0m\u001b[0;34m)\u001b[0m\u001b[0;34m\u001b[0m\u001b[0;34m\u001b[0m\u001b[0m\n\u001b[0m\u001b[1;32m   4237\u001b[0m \u001b[0;34m\u001b[0m\u001b[0m\n\u001b[1;32m   4238\u001b[0m     \u001b[0;32mdef\u001b[0m \u001b[0m_reindex_indexer\u001b[0m\u001b[0;34m(\u001b[0m\u001b[0mself\u001b[0m\u001b[0;34m,\u001b[0m \u001b[0mnew_index\u001b[0m\u001b[0;34m,\u001b[0m \u001b[0mindexer\u001b[0m\u001b[0;34m,\u001b[0m \u001b[0mcopy\u001b[0m\u001b[0;34m)\u001b[0m\u001b[0;34m:\u001b[0m\u001b[0;34m\u001b[0m\u001b[0;34m\u001b[0m\u001b[0m\n",
      "\u001b[0;32m/usr/local/lib/python3.8/site-packages/pandas/core/nanops.py\u001b[0m in \u001b[0;36m_f\u001b[0;34m(*args, **kwargs)\u001b[0m\n\u001b[1;32m     69\u001b[0m             \u001b[0;32mtry\u001b[0m\u001b[0;34m:\u001b[0m\u001b[0;34m\u001b[0m\u001b[0;34m\u001b[0m\u001b[0m\n\u001b[1;32m     70\u001b[0m                 \u001b[0;32mwith\u001b[0m \u001b[0mnp\u001b[0m\u001b[0;34m.\u001b[0m\u001b[0merrstate\u001b[0m\u001b[0;34m(\u001b[0m\u001b[0minvalid\u001b[0m\u001b[0;34m=\u001b[0m\u001b[0;34m\"ignore\"\u001b[0m\u001b[0;34m)\u001b[0m\u001b[0;34m:\u001b[0m\u001b[0;34m\u001b[0m\u001b[0;34m\u001b[0m\u001b[0m\n\u001b[0;32m---> 71\u001b[0;31m                     \u001b[0;32mreturn\u001b[0m \u001b[0mf\u001b[0m\u001b[0;34m(\u001b[0m\u001b[0;34m*\u001b[0m\u001b[0margs\u001b[0m\u001b[0;34m,\u001b[0m \u001b[0;34m**\u001b[0m\u001b[0mkwargs\u001b[0m\u001b[0;34m)\u001b[0m\u001b[0;34m\u001b[0m\u001b[0;34m\u001b[0m\u001b[0m\n\u001b[0m\u001b[1;32m     72\u001b[0m             \u001b[0;32mexcept\u001b[0m \u001b[0mValueError\u001b[0m \u001b[0;32mas\u001b[0m \u001b[0me\u001b[0m\u001b[0;34m:\u001b[0m\u001b[0;34m\u001b[0m\u001b[0;34m\u001b[0m\u001b[0m\n\u001b[1;32m     73\u001b[0m                 \u001b[0;31m# we want to transform an object array\u001b[0m\u001b[0;34m\u001b[0m\u001b[0;34m\u001b[0m\u001b[0;34m\u001b[0m\u001b[0m\n",
      "\u001b[0;32m/usr/local/lib/python3.8/site-packages/pandas/core/nanops.py\u001b[0m in \u001b[0;36mf\u001b[0;34m(values, axis, skipna, **kwds)\u001b[0m\n\u001b[1;32m    127\u001b[0m                     \u001b[0mresult\u001b[0m \u001b[0;34m=\u001b[0m \u001b[0malt\u001b[0m\u001b[0;34m(\u001b[0m\u001b[0mvalues\u001b[0m\u001b[0;34m,\u001b[0m \u001b[0maxis\u001b[0m\u001b[0;34m=\u001b[0m\u001b[0maxis\u001b[0m\u001b[0;34m,\u001b[0m \u001b[0mskipna\u001b[0m\u001b[0;34m=\u001b[0m\u001b[0mskipna\u001b[0m\u001b[0;34m,\u001b[0m \u001b[0;34m**\u001b[0m\u001b[0mkwds\u001b[0m\u001b[0;34m)\u001b[0m\u001b[0;34m\u001b[0m\u001b[0;34m\u001b[0m\u001b[0m\n\u001b[1;32m    128\u001b[0m             \u001b[0;32melse\u001b[0m\u001b[0;34m:\u001b[0m\u001b[0;34m\u001b[0m\u001b[0;34m\u001b[0m\u001b[0m\n\u001b[0;32m--> 129\u001b[0;31m                 \u001b[0mresult\u001b[0m \u001b[0;34m=\u001b[0m \u001b[0malt\u001b[0m\u001b[0;34m(\u001b[0m\u001b[0mvalues\u001b[0m\u001b[0;34m,\u001b[0m \u001b[0maxis\u001b[0m\u001b[0;34m=\u001b[0m\u001b[0maxis\u001b[0m\u001b[0;34m,\u001b[0m \u001b[0mskipna\u001b[0m\u001b[0;34m=\u001b[0m\u001b[0mskipna\u001b[0m\u001b[0;34m,\u001b[0m \u001b[0;34m**\u001b[0m\u001b[0mkwds\u001b[0m\u001b[0;34m)\u001b[0m\u001b[0;34m\u001b[0m\u001b[0;34m\u001b[0m\u001b[0m\n\u001b[0m\u001b[1;32m    130\u001b[0m \u001b[0;34m\u001b[0m\u001b[0m\n\u001b[1;32m    131\u001b[0m             \u001b[0;32mreturn\u001b[0m \u001b[0mresult\u001b[0m\u001b[0;34m\u001b[0m\u001b[0;34m\u001b[0m\u001b[0m\n",
      "\u001b[0;32m/usr/local/lib/python3.8/site-packages/pandas/core/nanops.py\u001b[0m in \u001b[0;36mnanmean\u001b[0;34m(values, axis, skipna, mask)\u001b[0m\n\u001b[1;32m    561\u001b[0m         \u001b[0mdtype_count\u001b[0m \u001b[0;34m=\u001b[0m \u001b[0mdtype\u001b[0m\u001b[0;34m\u001b[0m\u001b[0;34m\u001b[0m\u001b[0m\n\u001b[1;32m    562\u001b[0m     \u001b[0mcount\u001b[0m \u001b[0;34m=\u001b[0m \u001b[0m_get_counts\u001b[0m\u001b[0;34m(\u001b[0m\u001b[0mvalues\u001b[0m\u001b[0;34m.\u001b[0m\u001b[0mshape\u001b[0m\u001b[0;34m,\u001b[0m \u001b[0mmask\u001b[0m\u001b[0;34m,\u001b[0m \u001b[0maxis\u001b[0m\u001b[0;34m,\u001b[0m \u001b[0mdtype\u001b[0m\u001b[0;34m=\u001b[0m\u001b[0mdtype_count\u001b[0m\u001b[0;34m)\u001b[0m\u001b[0;34m\u001b[0m\u001b[0;34m\u001b[0m\u001b[0m\n\u001b[0;32m--> 563\u001b[0;31m     \u001b[0mthe_sum\u001b[0m \u001b[0;34m=\u001b[0m \u001b[0m_ensure_numeric\u001b[0m\u001b[0;34m(\u001b[0m\u001b[0mvalues\u001b[0m\u001b[0;34m.\u001b[0m\u001b[0msum\u001b[0m\u001b[0;34m(\u001b[0m\u001b[0maxis\u001b[0m\u001b[0;34m,\u001b[0m \u001b[0mdtype\u001b[0m\u001b[0;34m=\u001b[0m\u001b[0mdtype_sum\u001b[0m\u001b[0;34m)\u001b[0m\u001b[0;34m)\u001b[0m\u001b[0;34m\u001b[0m\u001b[0;34m\u001b[0m\u001b[0m\n\u001b[0m\u001b[1;32m    564\u001b[0m \u001b[0;34m\u001b[0m\u001b[0m\n\u001b[1;32m    565\u001b[0m     \u001b[0;32mif\u001b[0m \u001b[0maxis\u001b[0m \u001b[0;32mis\u001b[0m \u001b[0;32mnot\u001b[0m \u001b[0;32mNone\u001b[0m \u001b[0;32mand\u001b[0m \u001b[0mgetattr\u001b[0m\u001b[0;34m(\u001b[0m\u001b[0mthe_sum\u001b[0m\u001b[0;34m,\u001b[0m \u001b[0;34m\"ndim\"\u001b[0m\u001b[0;34m,\u001b[0m \u001b[0;32mFalse\u001b[0m\u001b[0;34m)\u001b[0m\u001b[0;34m:\u001b[0m\u001b[0;34m\u001b[0m\u001b[0;34m\u001b[0m\u001b[0m\n",
      "\u001b[0;32m/usr/local/lib/python3.8/site-packages/pandas/core/nanops.py\u001b[0m in \u001b[0;36m_ensure_numeric\u001b[0;34m(x)\u001b[0m\n\u001b[1;32m   1432\u001b[0m             \u001b[0;32mexcept\u001b[0m \u001b[0mValueError\u001b[0m \u001b[0;32mas\u001b[0m \u001b[0merr\u001b[0m\u001b[0;34m:\u001b[0m\u001b[0;34m\u001b[0m\u001b[0;34m\u001b[0m\u001b[0m\n\u001b[1;32m   1433\u001b[0m                 \u001b[0;31m# e.g. \"foo\"\u001b[0m\u001b[0;34m\u001b[0m\u001b[0;34m\u001b[0m\u001b[0;34m\u001b[0m\u001b[0m\n\u001b[0;32m-> 1434\u001b[0;31m                 \u001b[0;32mraise\u001b[0m \u001b[0mTypeError\u001b[0m\u001b[0;34m(\u001b[0m\u001b[0;34mf\"Could not convert {x} to numeric\"\u001b[0m\u001b[0;34m)\u001b[0m \u001b[0;32mfrom\u001b[0m \u001b[0merr\u001b[0m\u001b[0;34m\u001b[0m\u001b[0;34m\u001b[0m\u001b[0m\n\u001b[0m\u001b[1;32m   1435\u001b[0m     \u001b[0;32mreturn\u001b[0m \u001b[0mx\u001b[0m\u001b[0;34m\u001b[0m\u001b[0;34m\u001b[0m\u001b[0m\n\u001b[1;32m   1436\u001b[0m \u001b[0;34m\u001b[0m\u001b[0m\n",
      "\u001b[0;31mTypeError\u001b[0m: Could not convert 21,50 €34,99 €25,99 €29,99 €21,99 €11,75 €10,99 €25,50 €10,50 €4,99 €20,99 €20,99 €1,99 €1,99 €Desde   9,95 €10,99 €7,95 €28,75 €7,95 €15,99 €14,99 €28,75 €13,99 €19,99 €22,50 €22,50 €49,99 €39,99 €42,99 €32,75 €11,99 €4,95 €15,99 €4,95 €31,90 €53,50 €29,99 €12,99 €27,50 €11,75 €19,99 €18,99 €16,99 €8,95 €17,99 €5,95 €11,99 €18,99 €21,50 €7,95 €26,50 €45,99 €16,99 €13,99 €11,99 €10,99 €11,99 €21,50 €24,50 €45,99 €32,75 €39,99 €39,99 €45,99 €26,99 €33,95 €35,99 €31,90 €12,99 €17,99 €13,99 €15,95 €14,75 €10,50 €20,99 €14,99 €30,99 €13,99 €19,99 €16,99 €14,99 €14,99 €Desde   41,99 €Desde   41,99 €Desde   13,99 €9,95 €6,95 €11,99 €3,99 €3,25 €15,95 €7,50 €11,50 €17,99 €18,99 €9,50 €19,99 €27,50 €18,99 €26,50 €45,99 €45,99 €36,99 €35,99 €9,95 €11,99 €18,99 €39,99 €Desde   16,99 €12,99 €31,99 €29,75 €26,50 €9,20 €27,50 €Desde   17,99 €19,99 €29,99 €18,99 €18,99 €18,99 €Desde   19,95 €16,99 €19,95 €27,99 €Desde   15,99 €18,99 €Desde   18,99 €13,75 €3,95 €15,99 €19,99 €36,99 €19,95 €16,99 €36,99 €29,99 €29,99 €29,99 €36,99 €38,90 €17,99 €Desde   14,99 €18,99 €10,99 €Desde   14,99 €Desde   12,99 €Desde   15,99 €4,95 €27,99 € to numeric"
     ]
    }
   ],
   "source": [
    "mean_df = df['Precio'].mean()\n",
    "print(mean_df)"
   ]
  },
  {
   "cell_type": "code",
   "execution_count": 15,
   "metadata": {},
   "outputs": [],
   "source": [
    "df.to_csv(\"primor-dermocosmética.csv\")"
   ]
  },
  {
   "cell_type": "markdown",
   "metadata": {},
   "source": [
    "### Pruebas"
   ]
  },
  {
   "cell_type": "code",
   "execution_count": 31,
   "metadata": {},
   "outputs": [],
   "source": [
    "#a = df.iloc[:, 0]"
   ]
  },
  {
   "cell_type": "code",
   "execution_count": 32,
   "metadata": {},
   "outputs": [],
   "source": [
    "#a"
   ]
  },
  {
   "cell_type": "code",
   "execution_count": 33,
   "metadata": {},
   "outputs": [],
   "source": [
    "#type(a)"
   ]
  },
  {
   "cell_type": "code",
   "execution_count": 34,
   "metadata": {},
   "outputs": [],
   "source": [
    "#listado_marcas = type(df[\"Marca\"])"
   ]
  },
  {
   "cell_type": "code",
   "execution_count": 35,
   "metadata": {},
   "outputs": [],
   "source": [
    "#listado_marcas"
   ]
  },
  {
   "cell_type": "code",
   "execution_count": 38,
   "metadata": {},
   "outputs": [],
   "source": [
    "marcas = df[\"Marca\"].tolist()"
   ]
  },
  {
   "cell_type": "code",
   "execution_count": 39,
   "metadata": {},
   "outputs": [
    {
     "data": {
      "text/plain": [
       "['Deiters',\n",
       " 'Sesderma',\n",
       " 'Sesderma',\n",
       " 'Sesderma',\n",
       " 'Sesderma',\n",
       " 'Klorane',\n",
       " 'Klorane',\n",
       " 'Avene',\n",
       " 'Ducray',\n",
       " 'Ducray',\n",
       " 'Ducray',\n",
       " 'Ducray',\n",
       " 'Ducray',\n",
       " 'Blistex',\n",
       " 'Blistex',\n",
       " 'Bio-Oil',\n",
       " 'Eucerin',\n",
       " 'Avene',\n",
       " 'Sesderma',\n",
       " 'Beauty Drops',\n",
       " 'Belcils',\n",
       " 'Belcils',\n",
       " 'Sesderma',\n",
       " 'Sesderma',\n",
       " 'Avene',\n",
       " 'Avene',\n",
       " 'Somatoline',\n",
       " 'Somatoline',\n",
       " 'Somatoline',\n",
       " 'Somatoline',\n",
       " 'Bioderma',\n",
       " 'Vichy',\n",
       " 'Weleda',\n",
       " 'Weleda',\n",
       " 'Abbott',\n",
       " 'NeoStrata',\n",
       " 'NeoStrata',\n",
       " 'NeoStrata',\n",
       " 'NeoStrata',\n",
       " 'NeoStrata',\n",
       " 'NeoStrata',\n",
       " 'Urgo',\n",
       " 'Lullage',\n",
       " 'Lullage',\n",
       " 'Nuxe',\n",
       " 'Bioderma',\n",
       " 'Bioderma',\n",
       " 'Bioderma',\n",
       " 'Bioderma',\n",
       " 'Bioderma',\n",
       " 'Nuxe',\n",
       " 'Nuxe',\n",
       " 'Nuxe',\n",
       " 'Nuxe',\n",
       " 'Nuxe',\n",
       " 'Nuxe',\n",
       " 'Bioderma',\n",
       " 'Bioderma',\n",
       " 'Bioderma',\n",
       " 'Bioderma',\n",
       " 'Nuxe',\n",
       " 'Nuxe',\n",
       " 'Nuxe',\n",
       " 'Nuxe',\n",
       " 'Sesderma',\n",
       " 'Sebamed',\n",
       " 'Nuggela & Sulé',\n",
       " 'Nuggela & Sulé',\n",
       " 'Avene',\n",
       " 'Avene',\n",
       " 'Triconatura',\n",
       " 'Xhekpon',\n",
       " 'Klorane',\n",
       " 'Isdin',\n",
       " 'Isdin',\n",
       " 'Isdin',\n",
       " 'Isdin',\n",
       " 'Isdin',\n",
       " 'Elancyl',\n",
       " 'Remescar',\n",
       " 'Vichy',\n",
       " 'Ducray',\n",
       " 'Ducray',\n",
       " 'Vichy',\n",
       " 'Vichy',\n",
       " 'Vichy',\n",
       " 'Vichy',\n",
       " 'Ducray',\n",
       " 'A-Derma',\n",
       " 'Inibsa',\n",
       " 'Inibsa',\n",
       " 'Eucerin',\n",
       " 'Eucerin',\n",
       " 'Neutrogena',\n",
       " 'La Roche-Posay',\n",
       " 'La Roche-Posay',\n",
       " 'Deiters',\n",
       " 'Germinal',\n",
       " 'Germinal',\n",
       " 'Germinal',\n",
       " 'Germinal',\n",
       " 'Sesderma',\n",
       " 'Sesderma',\n",
       " 'La Roche-Posay',\n",
       " 'Avene',\n",
       " 'Nutriceutics',\n",
       " 'Cumlaude',\n",
       " 'Avene',\n",
       " 'La Roche-Posay',\n",
       " 'Vichy',\n",
       " 'Eucerin',\n",
       " 'Vichy',\n",
       " 'Vichy',\n",
       " 'Vichy',\n",
       " 'The Ordinary',\n",
       " 'A-Derma',\n",
       " 'Germinal',\n",
       " 'Remescar',\n",
       " 'Avene',\n",
       " 'Avene',\n",
       " 'Avene',\n",
       " 'Vichy',\n",
       " 'Vichy',\n",
       " 'Arganour',\n",
       " 'Eucerin',\n",
       " 'Avene',\n",
       " 'Avene',\n",
       " 'Avene',\n",
       " 'Roc',\n",
       " 'Grisi',\n",
       " 'Germinal',\n",
       " 'Sesderma',\n",
       " 'Sesderma',\n",
       " 'Vichy',\n",
       " 'La Roche-Posay',\n",
       " 'Sesderma',\n",
       " 'Sesderma',\n",
       " 'Sesderma',\n",
       " 'Sesderma',\n",
       " 'Sesderma',\n",
       " 'Sesderma',\n",
       " 'La Roche-Posay',\n",
       " 'Avene',\n",
       " 'Avene',\n",
       " 'Avene',\n",
       " 'La Roche-Posay',\n",
       " 'Avene',\n",
       " 'Vichy',\n",
       " 'Xhekpon',\n",
       " 'Doctor Hauschka']"
      ]
     },
     "execution_count": 39,
     "metadata": {},
     "output_type": "execute_result"
    }
   ],
   "source": [
    "marcas"
   ]
  },
  {
   "cell_type": "code",
   "execution_count": 45,
   "metadata": {},
   "outputs": [],
   "source": [
    "listado_marcas_set = set(marcas)"
   ]
  },
  {
   "cell_type": "code",
   "execution_count": 46,
   "metadata": {},
   "outputs": [
    {
     "data": {
      "text/plain": [
       "{'A-Derma',\n",
       " 'Abbott',\n",
       " 'Arganour',\n",
       " 'Avene',\n",
       " 'Beauty Drops',\n",
       " 'Belcils',\n",
       " 'Bio-Oil',\n",
       " 'Bioderma',\n",
       " 'Blistex',\n",
       " 'Cumlaude',\n",
       " 'Deiters',\n",
       " 'Doctor Hauschka',\n",
       " 'Ducray',\n",
       " 'Elancyl',\n",
       " 'Eucerin',\n",
       " 'Germinal',\n",
       " 'Grisi',\n",
       " 'Inibsa',\n",
       " 'Isdin',\n",
       " 'Klorane',\n",
       " 'La Roche-Posay',\n",
       " 'Lullage',\n",
       " 'NeoStrata',\n",
       " 'Neutrogena',\n",
       " 'Nuggela & Sulé',\n",
       " 'Nutriceutics',\n",
       " 'Nuxe',\n",
       " 'Remescar',\n",
       " 'Roc',\n",
       " 'Sebamed',\n",
       " 'Sesderma',\n",
       " 'Somatoline',\n",
       " 'The Ordinary',\n",
       " 'Triconatura',\n",
       " 'Urgo',\n",
       " 'Vichy',\n",
       " 'Weleda',\n",
       " 'Xhekpon'}"
      ]
     },
     "execution_count": 46,
     "metadata": {},
     "output_type": "execute_result"
    }
   ],
   "source": [
    "listado_marcas_set"
   ]
  },
  {
   "cell_type": "code",
   "execution_count": 47,
   "metadata": {},
   "outputs": [
    {
     "data": {
      "text/plain": [
       "set"
      ]
     },
     "execution_count": 47,
     "metadata": {},
     "output_type": "execute_result"
    }
   ],
   "source": [
    "type(listado_marcas_set)"
   ]
  },
  {
   "cell_type": "code",
   "execution_count": 48,
   "metadata": {},
   "outputs": [
    {
     "name": "stdout",
     "output_type": "stream",
     "text": [
      "['Eucerin', 'Beauty Drops', 'A-Derma', 'Cumlaude', 'Weleda', 'Roc', 'Somatoline', 'Elancyl', 'Xhekpon', 'Avene', 'Remescar', 'Nuxe', 'Vichy', 'Ducray', 'Klorane', 'Isdin', 'The Ordinary', 'Germinal', 'Nutriceutics', 'Urgo', 'Neutrogena', 'Bio-Oil', 'Inibsa', 'La Roche-Posay', 'Sesderma', 'Nuggela & Sulé', 'Arganour', 'Doctor Hauschka', 'Bioderma', 'NeoStrata', 'Abbott', 'Grisi', 'Deiters', 'Blistex', 'Belcils', 'Sebamed', 'Lullage', 'Triconatura']\n"
     ]
    }
   ],
   "source": [
    "listado_marcas = list(listado_marcas_set) \n",
    "print(listado_marcas) "
   ]
  },
  {
   "cell_type": "code",
   "execution_count": 49,
   "metadata": {},
   "outputs": [
    {
     "data": {
      "text/plain": [
       "list"
      ]
     },
     "execution_count": 49,
     "metadata": {},
     "output_type": "execute_result"
    }
   ],
   "source": [
    "type(listado_marcas)"
   ]
  },
  {
   "cell_type": "code",
   "execution_count": 61,
   "metadata": {},
   "outputs": [],
   "source": [
    "def listadodemarcas():\n",
    "    listado_marcas = []\n",
    "    marcas = df[\"Marca\"].tolist()\n",
    "    marcas\n",
    "    listado_marcas_set = set(marcas)\n",
    "    listado_marcas = list(listado_marcas_set) \n",
    "    return listado_marcas\n",
    "    "
   ]
  },
  {
   "cell_type": "code",
   "execution_count": 62,
   "metadata": {},
   "outputs": [],
   "source": [
    "listado_marcas = listadodemarcas()"
   ]
  },
  {
   "cell_type": "code",
   "execution_count": 63,
   "metadata": {},
   "outputs": [
    {
     "data": {
      "text/plain": [
       "['Eucerin',\n",
       " 'Beauty Drops',\n",
       " 'A-Derma',\n",
       " 'Cumlaude',\n",
       " 'Weleda',\n",
       " 'Roc',\n",
       " 'Somatoline',\n",
       " 'Elancyl',\n",
       " 'Xhekpon',\n",
       " 'Avene',\n",
       " 'Remescar',\n",
       " 'Nuxe',\n",
       " 'Vichy',\n",
       " 'Ducray',\n",
       " 'Klorane',\n",
       " 'Isdin',\n",
       " 'The Ordinary',\n",
       " 'Germinal',\n",
       " 'Nutriceutics',\n",
       " 'Urgo',\n",
       " 'Neutrogena',\n",
       " 'Bio-Oil',\n",
       " 'Inibsa',\n",
       " 'La Roche-Posay',\n",
       " 'Sesderma',\n",
       " 'Nuggela & Sulé',\n",
       " 'Arganour',\n",
       " 'Doctor Hauschka',\n",
       " 'Bioderma',\n",
       " 'NeoStrata',\n",
       " 'Abbott',\n",
       " 'Grisi',\n",
       " 'Deiters',\n",
       " 'Blistex',\n",
       " 'Belcils',\n",
       " 'Sebamed',\n",
       " 'Lullage',\n",
       " 'Triconatura']"
      ]
     },
     "execution_count": 63,
     "metadata": {},
     "output_type": "execute_result"
    }
   ],
   "source": [
    "listado_marcas"
   ]
  },
  {
   "cell_type": "code",
   "execution_count": 60,
   "metadata": {},
   "outputs": [
    {
     "data": {
      "text/plain": [
       "list"
      ]
     },
     "execution_count": 60,
     "metadata": {},
     "output_type": "execute_result"
    }
   ],
   "source": [
    "type(listado_marcas)"
   ]
  },
  {
   "cell_type": "code",
   "execution_count": null,
   "metadata": {},
   "outputs": [],
   "source": []
  }
 ],
 "metadata": {
  "kernelspec": {
   "display_name": "Python 3",
   "language": "python",
   "name": "python3"
  },
  "language_info": {
   "codemirror_mode": {
    "name": "ipython",
    "version": 3
   },
   "file_extension": ".py",
   "mimetype": "text/x-python",
   "name": "python",
   "nbconvert_exporter": "python",
   "pygments_lexer": "ipython3",
   "version": "3.8.5"
  }
 },
 "nbformat": 4,
 "nbformat_minor": 4
}
