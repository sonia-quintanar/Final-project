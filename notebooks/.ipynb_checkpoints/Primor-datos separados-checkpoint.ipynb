{
 "cells": [
  {
   "cell_type": "code",
   "execution_count": 1,
   "metadata": {},
   "outputs": [],
   "source": [
    "import requests\n",
    "from bs4 import BeautifulSoup\n",
    "import pandas as pd\n",
    "import json\n",
    "import numpy as np"
   ]
  },
  {
   "cell_type": "markdown",
   "metadata": {},
   "source": [
    "## Prueba productos (Toda la info junta)"
   ]
  },
  {
   "cell_type": "code",
   "execution_count": 125,
   "metadata": {},
   "outputs": [],
   "source": [
    "url = 'https://www.primor.eu/66-dermocosmetica'"
   ]
  },
  {
   "cell_type": "code",
   "execution_count": 126,
   "metadata": {},
   "outputs": [],
   "source": [
    "response = requests.get(url).text"
   ]
  },
  {
   "cell_type": "code",
   "execution_count": 127,
   "metadata": {},
   "outputs": [],
   "source": [
    "beautiful = BeautifulSoup(response,'html.parser')"
   ]
  },
  {
   "cell_type": "code",
   "execution_count": 131,
   "metadata": {},
   "outputs": [],
   "source": [
    "soup = BeautifulSoup(response,)"
   ]
  },
  {
   "cell_type": "code",
   "execution_count": 132,
   "metadata": {},
   "outputs": [],
   "source": [
    "productos_todos = soup.find_all('div',class_ = 'product-container')"
   ]
  },
  {
   "cell_type": "code",
   "execution_count": 173,
   "metadata": {},
   "outputs": [
    {
     "data": {
      "text/plain": [
       "[' Nuevo   Deiters   FisioCannabis Crema en Gel Alivio Muscular...      10,95 €     Disponible    Añadir a la lista de deseos   Comprar ',\n",
       " '    Sesderma   Serenity Bruma Rostro y Almohada      21,50 €   -17% 25,70 €   Disponible    Añadir a la lista de deseos   Comprar ',\n",
       " '    Sesderma   Serenity Sérum Liposomal Noche...      34,99 €   -15% 41,15 €   Disponible    Añadir a la lista de deseos   Comprar ',\n",
       " '    Sesderma   Serenity Mascarilla Facial Nocturna...      25,99 €   -16% 30,85 €   Disponible    Añadir a la lista de deseos   Comprar ',\n",
       " '    Sesderma   Serenity Crema de Noche Antienvejecimiento      29,99 €   -17% 36,00 €   Disponible    Añadir a la lista de deseos   Comprar ',\n",
       " '    Klorane   Gel Crema Hidratante con Agua de Aciano      21,99 €   -17% 26,45 €   Disponible    Añadir a la lista de deseos   Comprar ',\n",
       " '    Klorane   Bruma Corporal Hidratante de Peonía      11,75 €   -16% 13,90 €   Disponible    Añadir a la lista de deseos   Comprar ',\n",
       " '    Avene   Cicalfate Gel para Cicatrices      10,99 €   -19% 13,50 €   Disponible    Añadir a la lista de deseos   Comprar ',\n",
       " '    Ducray   Set Keracnyl Sérum + Gel Limpiador      25,50 €   -16% 30,20 €   Disponible    Añadir a la lista de deseos   Comprar ',\n",
       " '    Ducray   Dexeryl Crema Barrera Aislante      10,50 €   -16% 12,40 €   Disponible    Añadir a la lista de deseos   Comprar ',\n",
       " '    Ducray   Dermalibour + Crema Reparadora      4,99 €   -21% 6,30 €   Disponible    Añadir a la lista de deseos   Comprar ',\n",
       " '    Ducray   Set Keracnyl PP Crema + Gel Limpiador      20,99 €   -21% 26,45 €   Disponible    Añadir a la lista de deseos   Comprar ',\n",
       " '    Ducray   Set Keracnyl Control + Gel Limpiador      20,99 €   -21% 26,45 €   Disponible    Añadir a la lista de deseos   Comprar ',\n",
       " '    Blistex   Lip Infusion Hydration SPF15 Bálsamo Labial      1,99 €     Disponible    Añadir a la lista de deseos   Comprar ',\n",
       " '    Blistex   Lip Infusion Nourish SPF15 Bálsamo Labial      1,99 €     Disponible    Añadir a la lista de deseos   Comprar ',\n",
       " '    Bio-Oil   Gel para Piel Seca    Desde   9,95 €   -20% 12,35 €   Disponible    Añadir a la lista de deseos    Ver opciones ',\n",
       " '    Eucerin   DermatoClean Hyaluron Espuma Micelar      10,99 €   -14% 12,75 €   Disponible    Añadir a la lista de deseos   Comprar ',\n",
       " '    Avene   Desodorante Roll On 24h Piel Sensible      7,95 €   -19% 9,75 €   Disponible    Añadir a la lista de deseos   Comprar ',\n",
       " '    Sesderma   Oceanskin Crema Facial Nutritiva      28,75 €   -16% 34,00 €   Disponible    Añadir a la lista de deseos   Comprar ',\n",
       " '    Beauty Drops   Vitamina C al 20% + Ácido Hialurónico      7,95 €   -28% 10,95 €   Disponible    Añadir a la lista de deseos   Comprar ',\n",
       " '    Belcils   Pack Cejas Perfectas      15,99 €     Disponible    Añadir a la lista de deseos   Comprar ',\n",
       " '    Belcils   Máscara Sublime      14,99 €   -17% 18,05 €   Disponible    Añadir a la lista de deseos   Comprar ',\n",
       " '    Sesderma   Juveneses Sebum Regulador      28,75 €   -21% 36,00 €   Disponible    Añadir a la lista de deseos   Comprar ',\n",
       " '    Sesderma   Hidraloe Contorno de Ojos      13,99 €   -14% 16,10 €   Disponible    Añadir a la lista de deseos   Comprar ']"
      ]
     },
     "execution_count": 173,
     "metadata": {},
     "output_type": "execute_result"
    }
   ],
   "source": [
    "productos_juntos3 = [elemento.text for elemento in productos_todos]\n",
    "productos_juntos3"
   ]
  },
  {
   "cell_type": "code",
   "execution_count": 209,
   "metadata": {},
   "outputs": [
    {
     "data": {
      "text/plain": [
       "list"
      ]
     },
     "execution_count": 209,
     "metadata": {},
     "output_type": "execute_result"
    }
   ],
   "source": [
    "type(productos_juntos3)"
   ]
  },
  {
   "cell_type": "code",
   "execution_count": 182,
   "metadata": {},
   "outputs": [
    {
     "name": "stdout",
     "output_type": "stream",
     "text": [
      "[' Nuevo', ' Deiters', ' FisioCannabis Crema en Gel Alivio Muscular...', '', '', '10,95 €', '', ' Disponible', '', 'Añadir a la lista de deseos', ' Comprar ']\n",
      "['', '', 'Sesderma', ' Serenity Bruma Rostro y Almohada', '', '', '21,50 €', ' -17% 25,70 €', ' Disponible', '', 'Añadir a la lista de deseos', ' Comprar ']\n",
      "['', '', 'Sesderma', ' Serenity Sérum Liposomal Noche...', '', '', '34,99 €', ' -15% 41,15 €', ' Disponible', '', 'Añadir a la lista de deseos', ' Comprar ']\n",
      "['', '', 'Sesderma', ' Serenity Mascarilla Facial Nocturna...', '', '', '25,99 €', ' -16% 30,85 €', ' Disponible', '', 'Añadir a la lista de deseos', ' Comprar ']\n",
      "['', '', 'Sesderma', ' Serenity Crema de Noche Antienvejecimiento', '', '', '29,99 €', ' -17% 36,00 €', ' Disponible', '', 'Añadir a la lista de deseos', ' Comprar ']\n",
      "['', '', 'Klorane', ' Gel Crema Hidratante con Agua de Aciano', '', '', '21,99 €', ' -17% 26,45 €', ' Disponible', '', 'Añadir a la lista de deseos', ' Comprar ']\n",
      "['', '', 'Klorane', ' Bruma Corporal Hidratante de Peonía', '', '', '11,75 €', ' -16% 13,90 €', ' Disponible', '', 'Añadir a la lista de deseos', ' Comprar ']\n",
      "['', '', 'Avene', ' Cicalfate Gel para Cicatrices', '', '', '10,99 €', ' -19% 13,50 €', ' Disponible', '', 'Añadir a la lista de deseos', ' Comprar ']\n",
      "['', '', 'Ducray', ' Set Keracnyl Sérum + Gel Limpiador', '', '', '25,50 €', ' -16% 30,20 €', ' Disponible', '', 'Añadir a la lista de deseos', ' Comprar ']\n",
      "['', '', 'Ducray', ' Dexeryl Crema Barrera Aislante', '', '', '10,50 €', ' -16% 12,40 €', ' Disponible', '', 'Añadir a la lista de deseos', ' Comprar ']\n",
      "['', '', 'Ducray', ' Dermalibour + Crema Reparadora', '', '', '4,99 €', ' -21% 6,30 €', ' Disponible', '', 'Añadir a la lista de deseos', ' Comprar ']\n",
      "['', '', 'Ducray', ' Set Keracnyl PP Crema + Gel Limpiador', '', '', '20,99 €', ' -21% 26,45 €', ' Disponible', '', 'Añadir a la lista de deseos', ' Comprar ']\n",
      "['', '', 'Ducray', ' Set Keracnyl Control + Gel Limpiador', '', '', '20,99 €', ' -21% 26,45 €', ' Disponible', '', 'Añadir a la lista de deseos', ' Comprar ']\n",
      "['', '', 'Blistex', ' Lip Infusion Hydration SPF15 Bálsamo Labial', '', '', '1,99 €', '', ' Disponible', '', 'Añadir a la lista de deseos', ' Comprar ']\n",
      "['', '', 'Blistex', ' Lip Infusion Nourish SPF15 Bálsamo Labial', '', '', '1,99 €', '', ' Disponible', '', 'Añadir a la lista de deseos', ' Comprar ']\n",
      "['', '', 'Bio-Oil', ' Gel para Piel Seca', '', 'Desde', ' 9,95 €', ' -20% 12,35 €', ' Disponible', '', 'Añadir a la lista de deseos', '', 'Ver opciones ']\n",
      "['', '', 'Eucerin', ' DermatoClean Hyaluron Espuma Micelar', '', '', '10,99 €', ' -14% 12,75 €', ' Disponible', '', 'Añadir a la lista de deseos', ' Comprar ']\n",
      "['', '', 'Avene', ' Desodorante Roll On 24h Piel Sensible', '', '', '7,95 €', ' -19% 9,75 €', ' Disponible', '', 'Añadir a la lista de deseos', ' Comprar ']\n",
      "['', '', 'Sesderma', ' Oceanskin Crema Facial Nutritiva', '', '', '28,75 €', ' -16% 34,00 €', ' Disponible', '', 'Añadir a la lista de deseos', ' Comprar ']\n",
      "['', '', 'Beauty Drops', ' Vitamina C al 20% + Ácido Hialurónico', '', '', '7,95 €', ' -28% 10,95 €', ' Disponible', '', 'Añadir a la lista de deseos', ' Comprar ']\n",
      "['', '', 'Belcils', ' Pack Cejas Perfectas', '', '', '15,99 €', '', ' Disponible', '', 'Añadir a la lista de deseos', ' Comprar ']\n",
      "['', '', 'Belcils', ' Máscara Sublime', '', '', '14,99 €', ' -17% 18,05 €', ' Disponible', '', 'Añadir a la lista de deseos', ' Comprar ']\n",
      "['', '', 'Sesderma', ' Juveneses Sebum Regulador', '', '', '28,75 €', ' -21% 36,00 €', ' Disponible', '', 'Añadir a la lista de deseos', ' Comprar ']\n",
      "['', '', 'Sesderma', ' Hidraloe Contorno de Ojos', '', '', '13,99 €', ' -14% 16,10 €', ' Disponible', '', 'Añadir a la lista de deseos', ' Comprar ']\n"
     ]
    }
   ],
   "source": [
    "separador = \"  \"\n",
    "for i in productos_juntos3:\n",
    "    palabras = i.split(separador)\n",
    "    print(palabras)"
   ]
  },
  {
   "cell_type": "code",
   "execution_count": 207,
   "metadata": {},
   "outputs": [
    {
     "data": {
      "text/plain": [
       "list"
      ]
     },
     "execution_count": 207,
     "metadata": {},
     "output_type": "execute_result"
    }
   ],
   "source": [
    "type(palabras)"
   ]
  },
  {
   "cell_type": "code",
   "execution_count": 208,
   "metadata": {},
   "outputs": [
    {
     "data": {
      "text/html": [
       "<div>\n",
       "<style scoped>\n",
       "    .dataframe tbody tr th:only-of-type {\n",
       "        vertical-align: middle;\n",
       "    }\n",
       "\n",
       "    .dataframe tbody tr th {\n",
       "        vertical-align: top;\n",
       "    }\n",
       "\n",
       "    .dataframe thead th {\n",
       "        text-align: right;\n",
       "    }\n",
       "</style>\n",
       "<table border=\"1\" class=\"dataframe\">\n",
       "  <thead>\n",
       "    <tr style=\"text-align: right;\">\n",
       "      <th></th>\n",
       "      <th>0</th>\n",
       "    </tr>\n",
       "  </thead>\n",
       "  <tbody>\n",
       "    <tr>\n",
       "      <th>0</th>\n",
       "      <td></td>\n",
       "    </tr>\n",
       "    <tr>\n",
       "      <th>1</th>\n",
       "      <td></td>\n",
       "    </tr>\n",
       "    <tr>\n",
       "      <th>2</th>\n",
       "      <td>Sesderma</td>\n",
       "    </tr>\n",
       "    <tr>\n",
       "      <th>3</th>\n",
       "      <td>Hidraloe Contorno de Ojos</td>\n",
       "    </tr>\n",
       "    <tr>\n",
       "      <th>4</th>\n",
       "      <td></td>\n",
       "    </tr>\n",
       "    <tr>\n",
       "      <th>5</th>\n",
       "      <td></td>\n",
       "    </tr>\n",
       "    <tr>\n",
       "      <th>6</th>\n",
       "      <td>13,99 €</td>\n",
       "    </tr>\n",
       "    <tr>\n",
       "      <th>7</th>\n",
       "      <td>-14% 16,10 €</td>\n",
       "    </tr>\n",
       "    <tr>\n",
       "      <th>8</th>\n",
       "      <td>Disponible</td>\n",
       "    </tr>\n",
       "    <tr>\n",
       "      <th>9</th>\n",
       "      <td></td>\n",
       "    </tr>\n",
       "    <tr>\n",
       "      <th>10</th>\n",
       "      <td>Añadir a la lista de deseos</td>\n",
       "    </tr>\n",
       "    <tr>\n",
       "      <th>11</th>\n",
       "      <td>Comprar</td>\n",
       "    </tr>\n",
       "  </tbody>\n",
       "</table>\n",
       "</div>"
      ],
      "text/plain": [
       "                              0\n",
       "0                              \n",
       "1                              \n",
       "2                      Sesderma\n",
       "3     Hidraloe Contorno de Ojos\n",
       "4                              \n",
       "5                              \n",
       "6                       13,99 €\n",
       "7                  -14% 16,10 €\n",
       "8                    Disponible\n",
       "9                              \n",
       "10  Añadir a la lista de deseos\n",
       "11                     Comprar "
      ]
     },
     "execution_count": 208,
     "metadata": {},
     "output_type": "execute_result"
    }
   ],
   "source": [
    "df = pd.DataFrame(palabras)\n",
    "df"
   ]
  },
  {
   "cell_type": "code",
   "execution_count": 238,
   "metadata": {},
   "outputs": [
    {
     "name": "stdout",
     "output_type": "stream",
     "text": [
      "[' Deiters', ' FisioCannabis Crema en Gel Alivio Muscular...', '', '', '10,95 €']\n",
      "['', 'Sesderma', ' Serenity Bruma Rostro y Almohada', '', '', '21,50 €']\n",
      "['', 'Sesderma', ' Serenity Sérum Liposomal Noche...', '', '', '34,99 €']\n",
      "['', 'Sesderma', ' Serenity Mascarilla Facial Nocturna...', '', '', '25,99 €']\n",
      "['', 'Sesderma', ' Serenity Crema de Noche Antienvejecimiento', '', '', '29,99 €']\n",
      "['', 'Klorane', ' Gel Crema Hidratante con Agua de Aciano', '', '', '21,99 €']\n",
      "['', 'Klorane', ' Bruma Corporal Hidratante de Peonía', '', '', '11,75 €']\n",
      "['', 'Avene', ' Cicalfate Gel para Cicatrices', '', '', '10,99 €']\n",
      "['', 'Ducray', ' Set Keracnyl Sérum + Gel Limpiador', '', '', '25,50 €']\n",
      "['', 'Ducray', ' Dexeryl Crema Barrera Aislante', '', '', '10,50 €']\n",
      "['', 'Ducray', ' Dermalibour + Crema Reparadora', '', '', '4,99 €']\n",
      "['', 'Ducray', ' Set Keracnyl PP Crema + Gel Limpiador', '', '', '20,99 €']\n",
      "['', 'Ducray', ' Set Keracnyl Control + Gel Limpiador', '', '', '20,99 €']\n",
      "['', 'Blistex', ' Lip Infusion Hydration SPF15 Bálsamo Labial', '', '', '1,99 €']\n",
      "['', 'Blistex', ' Lip Infusion Nourish SPF15 Bálsamo Labial', '', '', '1,99 €']\n",
      "['', 'Bio-Oil', ' Gel para Piel Seca', '', 'Desde', ' 9,95 €', ' -20% 12,35 €']\n",
      "['', 'Eucerin', ' DermatoClean Hyaluron Espuma Micelar', '', '', '10,99 €']\n",
      "['', 'Avene', ' Desodorante Roll On 24h Piel Sensible', '', '', '7,95 €']\n",
      "['', 'Sesderma', ' Oceanskin Crema Facial Nutritiva', '', '', '28,75 €']\n",
      "['', 'Beauty Drops', ' Vitamina C al 20% + Ácido Hialurónico', '', '', '7,95 €']\n",
      "['', 'Belcils', ' Pack Cejas Perfectas', '', '', '15,99 €']\n",
      "['', 'Belcils', ' Máscara Sublime', '', '', '14,99 €']\n",
      "['', 'Sesderma', ' Juveneses Sebum Regulador', '', '', '28,75 €']\n",
      "['', 'Sesderma', ' Hidraloe Contorno de Ojos', '', '', '13,99 €']\n"
     ]
    }
   ],
   "source": [
    "separador = \"  \"\n",
    "for i in productos_juntos3:\n",
    "    palabras = i.split(separador)\n",
    "    print(palabras[1:-5])"
   ]
  },
  {
   "cell_type": "code",
   "execution_count": 229,
   "metadata": {},
   "outputs": [
    {
     "data": {
      "text/html": [
       "<div>\n",
       "<style scoped>\n",
       "    .dataframe tbody tr th:only-of-type {\n",
       "        vertical-align: middle;\n",
       "    }\n",
       "\n",
       "    .dataframe tbody tr th {\n",
       "        vertical-align: top;\n",
       "    }\n",
       "\n",
       "    .dataframe thead th {\n",
       "        text-align: right;\n",
       "    }\n",
       "</style>\n",
       "<table border=\"1\" class=\"dataframe\">\n",
       "  <thead>\n",
       "    <tr style=\"text-align: right;\">\n",
       "      <th></th>\n",
       "      <th>0</th>\n",
       "    </tr>\n",
       "  </thead>\n",
       "  <tbody>\n",
       "    <tr>\n",
       "      <th>0</th>\n",
       "      <td></td>\n",
       "    </tr>\n",
       "    <tr>\n",
       "      <th>1</th>\n",
       "      <td>Sesderma</td>\n",
       "    </tr>\n",
       "    <tr>\n",
       "      <th>2</th>\n",
       "      <td>Hidraloe Contorno de Ojos</td>\n",
       "    </tr>\n",
       "    <tr>\n",
       "      <th>3</th>\n",
       "      <td></td>\n",
       "    </tr>\n",
       "    <tr>\n",
       "      <th>4</th>\n",
       "      <td></td>\n",
       "    </tr>\n",
       "    <tr>\n",
       "      <th>5</th>\n",
       "      <td>13,99 €</td>\n",
       "    </tr>\n",
       "  </tbody>\n",
       "</table>\n",
       "</div>"
      ],
      "text/plain": [
       "                            0\n",
       "0                            \n",
       "1                    Sesderma\n",
       "2   Hidraloe Contorno de Ojos\n",
       "3                            \n",
       "4                            \n",
       "5                     13,99 €"
      ]
     },
     "execution_count": 229,
     "metadata": {},
     "output_type": "execute_result"
    }
   ],
   "source": [
    "df = pd.DataFrame(palabras[1:-5])\n",
    "df"
   ]
  },
  {
   "cell_type": "code",
   "execution_count": 146,
   "metadata": {},
   "outputs": [
    {
     "name": "stdout",
     "output_type": "stream",
     "text": [
      "[[' Nuevo   Deiters   FisioCannabis Crema en Gel Alivio Muscular...      10,95 €     Disponible    Añadir a la lista de deseos   Comprar ', '    Sesderma   Serenity Bruma Rostro y Almohada      21,50 €   -17% 25,70 €   Disponible    Añadir a la lista de deseos   Comprar ', '    Sesderma   Serenity Sérum Liposomal Noche...      34,99 €   -15% 41,15 €   Disponible    Añadir a la lista de deseos   Comprar ', '    Sesderma   Serenity Mascarilla Facial Nocturna...      25,99 €   -16% 30,85 €   Disponible    Añadir a la lista de deseos   Comprar ', '    Sesderma   Serenity Crema de Noche Antienvejecimiento      29,99 €   -17% 36,00 €   Disponible    Añadir a la lista de deseos   Comprar ', '    Klorane   Gel Crema Hidratante con Agua de Aciano      21,99 €   -17% 26,45 €   Disponible    Añadir a la lista de deseos   Comprar ', '    Klorane   Bruma Corporal Hidratante de Peonía      11,75 €   -16% 13,90 €   Disponible    Añadir a la lista de deseos   Comprar ', '    Avene   Cicalfate Gel para Cicatrices      10,99 €   -19% 13,50 €   Disponible    Añadir a la lista de deseos   Comprar ', '    Ducray   Set Keracnyl Sérum + Gel Limpiador      25,50 €   -16% 30,20 €   Disponible    Añadir a la lista de deseos   Comprar ', '    Ducray   Dexeryl Crema Barrera Aislante      10,50 €   -16% 12,40 €   Disponible    Añadir a la lista de deseos   Comprar ', '    Ducray   Dermalibour + Crema Reparadora      4,99 €   -21% 6,30 €   Disponible    Añadir a la lista de deseos   Comprar ', '    Ducray   Set Keracnyl PP Crema + Gel Limpiador      20,99 €   -21% 26,45 €   Disponible    Añadir a la lista de deseos   Comprar ', '    Ducray   Set Keracnyl Control + Gel Limpiador      20,99 €   -21% 26,45 €   Disponible    Añadir a la lista de deseos   Comprar ', '    Blistex   Lip Infusion Hydration SPF15 Bálsamo Labial      1,99 €     Disponible    Añadir a la lista de deseos   Comprar ', '    Blistex   Lip Infusion Nourish SPF15 Bálsamo Labial      1,99 €     Disponible    Añadir a la lista de deseos   Comprar ', '    Bio-Oil   Gel para Piel Seca    Desde   9,95 €   -20% 12,35 €   Disponible    Añadir a la lista de deseos    Ver opciones ', '    Eucerin   DermatoClean Hyaluron Espuma Micelar      10,99 €   -14% 12,75 €   Disponible    Añadir a la lista de deseos   Comprar ', '    Avene   Desodorante Roll On 24h Piel Sensible      7,95 €   -19% 9,75 €   Disponible    Añadir a la lista de deseos   Comprar ', '    Sesderma   Oceanskin Crema Facial Nutritiva      28,75 €   -16% 34,00 €   Disponible    Añadir a la lista de deseos   Comprar ', '    Beauty Drops   Vitamina C al 20% + Ácido Hialurónico      7,95 €   -28% 10,95 €   Disponible    Añadir a la lista de deseos   Comprar ', '    Belcils   Pack Cejas Perfectas      15,99 €     Disponible    Añadir a la lista de deseos   Comprar ', '    Belcils   Máscara Sublime      14,99 €   -17% 18,05 €   Disponible    Añadir a la lista de deseos   Comprar ', '    Sesderma   Juveneses Sebum Regulador      28,75 €   -21% 36,00 €   Disponible    Añadir a la lista de deseos   Comprar ', '    Sesderma   Hidraloe Contorno de Ojos      13,99 €   -14% 16,10 €   Disponible    Añadir a la lista de deseos   Comprar ']]\n"
     ]
    }
   ],
   "source": [
    "import itertools\n",
    "result = [list(v) for k,v in itertools.groupby(productos_juntos,key=str.isspace) if not k]\n",
    "\n",
    "print(result)"
   ]
  },
  {
   "cell_type": "code",
   "execution_count": 245,
   "metadata": {},
   "outputs": [
    {
     "data": {
      "text/html": [
       "<div>\n",
       "<style scoped>\n",
       "    .dataframe tbody tr th:only-of-type {\n",
       "        vertical-align: middle;\n",
       "    }\n",
       "\n",
       "    .dataframe tbody tr th {\n",
       "        vertical-align: top;\n",
       "    }\n",
       "\n",
       "    .dataframe thead th {\n",
       "        text-align: right;\n",
       "    }\n",
       "</style>\n",
       "<table border=\"1\" class=\"dataframe\">\n",
       "  <thead>\n",
       "    <tr style=\"text-align: right;\">\n",
       "      <th></th>\n",
       "      <th>0</th>\n",
       "      <th>1</th>\n",
       "      <th>2</th>\n",
       "      <th>3</th>\n",
       "      <th>4</th>\n",
       "      <th>5</th>\n",
       "      <th>6</th>\n",
       "      <th>7</th>\n",
       "      <th>8</th>\n",
       "      <th>9</th>\n",
       "      <th>10</th>\n",
       "      <th>11</th>\n",
       "    </tr>\n",
       "  </thead>\n",
       "  <tbody>\n",
       "    <tr>\n",
       "      <th>0</th>\n",
       "      <td></td>\n",
       "      <td></td>\n",
       "      <td>Sesderma</td>\n",
       "      <td>Hidraloe Contorno de Ojos</td>\n",
       "      <td></td>\n",
       "      <td></td>\n",
       "      <td>13,99 €</td>\n",
       "      <td>-14% 16,10 €</td>\n",
       "      <td>Disponible</td>\n",
       "      <td></td>\n",
       "      <td>Añadir a la lista de deseos</td>\n",
       "      <td>Comprar</td>\n",
       "    </tr>\n",
       "  </tbody>\n",
       "</table>\n",
       "</div>"
      ],
      "text/plain": [
       "  0  1         2                           3  4  5        6              7   \\\n",
       "0        Sesderma   Hidraloe Contorno de Ojos        13,99 €   -14% 16,10 €   \n",
       "\n",
       "            8  9                            10         11  \n",
       "0   Disponible     Añadir a la lista de deseos   Comprar   "
      ]
     },
     "execution_count": 245,
     "metadata": {},
     "output_type": "execute_result"
    }
   ],
   "source": [
    "df = pd.DataFrame(result)\n",
    "df"
   ]
  },
  {
   "cell_type": "code",
   "execution_count": null,
   "metadata": {},
   "outputs": [],
   "source": []
  },
  {
   "cell_type": "markdown",
   "metadata": {},
   "source": [
    "### Nombre de los productos (títulos)"
   ]
  },
  {
   "cell_type": "code",
   "execution_count": null,
   "metadata": {},
   "outputs": [],
   "source": [
    "('h5', class_= 'product-name')"
   ]
  },
  {
   "cell_type": "code",
   "execution_count": 92,
   "metadata": {},
   "outputs": [],
   "source": [
    "#productos2 = soup.find_all('h5', class_= 'product-name')"
   ]
  },
  {
   "cell_type": "code",
   "execution_count": 93,
   "metadata": {
    "scrolled": true
   },
   "outputs": [],
   "source": [
    "#productos2"
   ]
  },
  {
   "cell_type": "code",
   "execution_count": 94,
   "metadata": {},
   "outputs": [],
   "source": [
    "#df_productos2 = pd.DataFrame.from_records(productos2)\n",
    "#df_productos2"
   ]
  },
  {
   "cell_type": "code",
   "execution_count": 58,
   "metadata": {},
   "outputs": [],
   "source": [
    "url = 'https://www.primor.eu/66-dermocosmetica'"
   ]
  },
  {
   "cell_type": "code",
   "execution_count": 59,
   "metadata": {},
   "outputs": [],
   "source": [
    "response = requests.get(url).text"
   ]
  },
  {
   "cell_type": "code",
   "execution_count": 60,
   "metadata": {},
   "outputs": [],
   "source": [
    "beautiful = BeautifulSoup(response,'html.parser')"
   ]
  },
  {
   "cell_type": "code",
   "execution_count": 79,
   "metadata": {},
   "outputs": [],
   "source": [
    "#response.status_code"
   ]
  },
  {
   "cell_type": "code",
   "execution_count": 80,
   "metadata": {},
   "outputs": [],
   "source": [
    "#response.content"
   ]
  },
  {
   "cell_type": "code",
   "execution_count": 63,
   "metadata": {},
   "outputs": [],
   "source": [
    "soup = BeautifulSoup(response,)"
   ]
  },
  {
   "cell_type": "code",
   "execution_count": 102,
   "metadata": {},
   "outputs": [],
   "source": [
    "productos2 = soup.find_all('h5',class_ = 'product-name')"
   ]
  },
  {
   "cell_type": "code",
   "execution_count": 99,
   "metadata": {},
   "outputs": [],
   "source": [
    "#productos22 = beautiful2.find_all('h5', class_ = 'product-name')"
   ]
  },
  {
   "cell_type": "code",
   "execution_count": 103,
   "metadata": {},
   "outputs": [],
   "source": [
    "productos = [elemento.text for elemento in productos2]"
   ]
  },
  {
   "cell_type": "code",
   "execution_count": 104,
   "metadata": {},
   "outputs": [
    {
     "data": {
      "text/plain": [
       "['  FisioCannabis Crema en Gel Alivio Muscular... ',\n",
       " '  Serenity Bruma Rostro y Almohada ',\n",
       " '  Serenity Sérum Liposomal Noche... ',\n",
       " '  Serenity Mascarilla Facial Nocturna... ',\n",
       " '  Serenity Crema de Noche Antienvejecimiento ',\n",
       " '  Gel Crema Hidratante con Agua de Aciano ',\n",
       " '  Bruma Corporal Hidratante de Peonía ',\n",
       " '  Cicalfate Gel para Cicatrices ',\n",
       " '  Set Keracnyl Sérum + Gel Limpiador ',\n",
       " '  Dexeryl Crema Barrera Aislante ',\n",
       " '  Dermalibour + Crema Reparadora ',\n",
       " '  Set Keracnyl PP Crema + Gel Limpiador ',\n",
       " '  Set Keracnyl Control + Gel Limpiador ',\n",
       " '  Lip Infusion Hydration SPF15 Bálsamo Labial ',\n",
       " '  Lip Infusion Nourish SPF15 Bálsamo Labial ',\n",
       " '  Gel para Piel Seca ',\n",
       " '  DermatoClean Hyaluron Espuma Micelar ',\n",
       " '  Desodorante Roll On 24h Piel Sensible ',\n",
       " '  Oceanskin Crema Facial Nutritiva ',\n",
       " '  Vitamina C al 20% + Ácido Hialurónico ',\n",
       " '  Pack Cejas Perfectas ',\n",
       " '  Máscara Sublime ',\n",
       " '  Juveneses Sebum Regulador ',\n",
       " '  Hidraloe Contorno de Ojos ']"
      ]
     },
     "execution_count": 104,
     "metadata": {},
     "output_type": "execute_result"
    }
   ],
   "source": [
    "productos"
   ]
  },
  {
   "cell_type": "code",
   "execution_count": 105,
   "metadata": {},
   "outputs": [
    {
     "data": {
      "text/html": [
       "<div>\n",
       "<style scoped>\n",
       "    .dataframe tbody tr th:only-of-type {\n",
       "        vertical-align: middle;\n",
       "    }\n",
       "\n",
       "    .dataframe tbody tr th {\n",
       "        vertical-align: top;\n",
       "    }\n",
       "\n",
       "    .dataframe thead th {\n",
       "        text-align: right;\n",
       "    }\n",
       "</style>\n",
       "<table border=\"1\" class=\"dataframe\">\n",
       "  <thead>\n",
       "    <tr style=\"text-align: right;\">\n",
       "      <th></th>\n",
       "      <th>0</th>\n",
       "    </tr>\n",
       "  </thead>\n",
       "  <tbody>\n",
       "    <tr>\n",
       "      <th>0</th>\n",
       "      <td>FisioCannabis Crema en Gel Alivio Muscular...</td>\n",
       "    </tr>\n",
       "    <tr>\n",
       "      <th>1</th>\n",
       "      <td>Serenity Bruma Rostro y Almohada</td>\n",
       "    </tr>\n",
       "    <tr>\n",
       "      <th>2</th>\n",
       "      <td>Serenity Sérum Liposomal Noche...</td>\n",
       "    </tr>\n",
       "    <tr>\n",
       "      <th>3</th>\n",
       "      <td>Serenity Mascarilla Facial Nocturna...</td>\n",
       "    </tr>\n",
       "    <tr>\n",
       "      <th>4</th>\n",
       "      <td>Serenity Crema de Noche Antienvejecimiento</td>\n",
       "    </tr>\n",
       "    <tr>\n",
       "      <th>5</th>\n",
       "      <td>Gel Crema Hidratante con Agua de Aciano</td>\n",
       "    </tr>\n",
       "    <tr>\n",
       "      <th>6</th>\n",
       "      <td>Bruma Corporal Hidratante de Peonía</td>\n",
       "    </tr>\n",
       "    <tr>\n",
       "      <th>7</th>\n",
       "      <td>Cicalfate Gel para Cicatrices</td>\n",
       "    </tr>\n",
       "    <tr>\n",
       "      <th>8</th>\n",
       "      <td>Set Keracnyl Sérum + Gel Limpiador</td>\n",
       "    </tr>\n",
       "    <tr>\n",
       "      <th>9</th>\n",
       "      <td>Dexeryl Crema Barrera Aislante</td>\n",
       "    </tr>\n",
       "    <tr>\n",
       "      <th>10</th>\n",
       "      <td>Dermalibour + Crema Reparadora</td>\n",
       "    </tr>\n",
       "    <tr>\n",
       "      <th>11</th>\n",
       "      <td>Set Keracnyl PP Crema + Gel Limpiador</td>\n",
       "    </tr>\n",
       "    <tr>\n",
       "      <th>12</th>\n",
       "      <td>Set Keracnyl Control + Gel Limpiador</td>\n",
       "    </tr>\n",
       "    <tr>\n",
       "      <th>13</th>\n",
       "      <td>Lip Infusion Hydration SPF15 Bálsamo Labial</td>\n",
       "    </tr>\n",
       "    <tr>\n",
       "      <th>14</th>\n",
       "      <td>Lip Infusion Nourish SPF15 Bálsamo Labial</td>\n",
       "    </tr>\n",
       "    <tr>\n",
       "      <th>15</th>\n",
       "      <td>Gel para Piel Seca</td>\n",
       "    </tr>\n",
       "    <tr>\n",
       "      <th>16</th>\n",
       "      <td>DermatoClean Hyaluron Espuma Micelar</td>\n",
       "    </tr>\n",
       "    <tr>\n",
       "      <th>17</th>\n",
       "      <td>Desodorante Roll On 24h Piel Sensible</td>\n",
       "    </tr>\n",
       "    <tr>\n",
       "      <th>18</th>\n",
       "      <td>Oceanskin Crema Facial Nutritiva</td>\n",
       "    </tr>\n",
       "    <tr>\n",
       "      <th>19</th>\n",
       "      <td>Vitamina C al 20% + Ácido Hialurónico</td>\n",
       "    </tr>\n",
       "    <tr>\n",
       "      <th>20</th>\n",
       "      <td>Pack Cejas Perfectas</td>\n",
       "    </tr>\n",
       "    <tr>\n",
       "      <th>21</th>\n",
       "      <td>Máscara Sublime</td>\n",
       "    </tr>\n",
       "    <tr>\n",
       "      <th>22</th>\n",
       "      <td>Juveneses Sebum Regulador</td>\n",
       "    </tr>\n",
       "    <tr>\n",
       "      <th>23</th>\n",
       "      <td>Hidraloe Contorno de Ojos</td>\n",
       "    </tr>\n",
       "  </tbody>\n",
       "</table>\n",
       "</div>"
      ],
      "text/plain": [
       "                                                   0\n",
       "0     FisioCannabis Crema en Gel Alivio Muscular... \n",
       "1                  Serenity Bruma Rostro y Almohada \n",
       "2                 Serenity Sérum Liposomal Noche... \n",
       "3            Serenity Mascarilla Facial Nocturna... \n",
       "4        Serenity Crema de Noche Antienvejecimiento \n",
       "5           Gel Crema Hidratante con Agua de Aciano \n",
       "6               Bruma Corporal Hidratante de Peonía \n",
       "7                     Cicalfate Gel para Cicatrices \n",
       "8                Set Keracnyl Sérum + Gel Limpiador \n",
       "9                    Dexeryl Crema Barrera Aislante \n",
       "10                   Dermalibour + Crema Reparadora \n",
       "11            Set Keracnyl PP Crema + Gel Limpiador \n",
       "12             Set Keracnyl Control + Gel Limpiador \n",
       "13      Lip Infusion Hydration SPF15 Bálsamo Labial \n",
       "14        Lip Infusion Nourish SPF15 Bálsamo Labial \n",
       "15                               Gel para Piel Seca \n",
       "16             DermatoClean Hyaluron Espuma Micelar \n",
       "17            Desodorante Roll On 24h Piel Sensible \n",
       "18                 Oceanskin Crema Facial Nutritiva \n",
       "19            Vitamina C al 20% + Ácido Hialurónico \n",
       "20                             Pack Cejas Perfectas \n",
       "21                                  Máscara Sublime \n",
       "22                        Juveneses Sebum Regulador \n",
       "23                        Hidraloe Contorno de Ojos "
      ]
     },
     "execution_count": 105,
     "metadata": {},
     "output_type": "execute_result"
    }
   ],
   "source": [
    "df_productos= pd.DataFrame(productos)\n",
    "df_productos"
   ]
  },
  {
   "cell_type": "code",
   "execution_count": 106,
   "metadata": {},
   "outputs": [],
   "source": [
    "df_productos.to_csv(\"productos2.csv\")"
   ]
  },
  {
   "cell_type": "markdown",
   "metadata": {},
   "source": [
    "### Precio de los productos"
   ]
  },
  {
   "cell_type": "code",
   "execution_count": null,
   "metadata": {},
   "outputs": [],
   "source": [
    "('div',class_ = 'content_price price-box clearfix')"
   ]
  },
  {
   "cell_type": "code",
   "execution_count": 89,
   "metadata": {},
   "outputs": [],
   "source": [
    "#productos3 = soup.find_all('div', class_= 'content_price price-box clearfix')"
   ]
  },
  {
   "cell_type": "code",
   "execution_count": 90,
   "metadata": {},
   "outputs": [],
   "source": [
    "#productos3"
   ]
  },
  {
   "cell_type": "code",
   "execution_count": 91,
   "metadata": {},
   "outputs": [],
   "source": [
    "#df_productos3 = pd.DataFrame.from_records(productos3)\n",
    "#df_productos3"
   ]
  },
  {
   "cell_type": "code",
   "execution_count": 69,
   "metadata": {},
   "outputs": [],
   "source": [
    "url = 'https://www.primor.eu/66-dermocosmetica'"
   ]
  },
  {
   "cell_type": "code",
   "execution_count": 70,
   "metadata": {},
   "outputs": [],
   "source": [
    "response = requests.get(url).text"
   ]
  },
  {
   "cell_type": "code",
   "execution_count": 71,
   "metadata": {},
   "outputs": [],
   "source": [
    "beautiful = BeautifulSoup(response,'html.parser')"
   ]
  },
  {
   "cell_type": "code",
   "execution_count": 72,
   "metadata": {},
   "outputs": [],
   "source": [
    "#response.status_code"
   ]
  },
  {
   "cell_type": "code",
   "execution_count": 73,
   "metadata": {},
   "outputs": [],
   "source": [
    "#response.content"
   ]
  },
  {
   "cell_type": "code",
   "execution_count": 111,
   "metadata": {},
   "outputs": [],
   "source": [
    "soup = BeautifulSoup(response,)"
   ]
  },
  {
   "cell_type": "code",
   "execution_count": 112,
   "metadata": {},
   "outputs": [],
   "source": [
    "precio_productos = soup.find_all('div',class_ = 'content_price price-box clearfix')"
   ]
  },
  {
   "cell_type": "code",
   "execution_count": 113,
   "metadata": {},
   "outputs": [],
   "source": [
    "#productos33 = beautiful2.find_all('div', class_ = 'content_price price-box clearfix')"
   ]
  },
  {
   "cell_type": "code",
   "execution_count": 114,
   "metadata": {},
   "outputs": [],
   "source": [
    "precio = [elemento.text for elemento in precio_productos]"
   ]
  },
  {
   "cell_type": "code",
   "execution_count": 115,
   "metadata": {},
   "outputs": [
    {
     "data": {
      "text/plain": [
       "['     10,95 €  ',\n",
       " '     21,50 €   -17% 25,70 €',\n",
       " '     34,99 €   -15% 41,15 €',\n",
       " '     25,99 €   -16% 30,85 €',\n",
       " '     29,99 €   -17% 36,00 €',\n",
       " '     21,99 €   -17% 26,45 €',\n",
       " '     11,75 €   -16% 13,90 €',\n",
       " '     10,99 €   -19% 13,50 €',\n",
       " '     25,50 €   -16% 30,20 €',\n",
       " '     10,50 €   -16% 12,40 €',\n",
       " '     4,99 €   -21% 6,30 €',\n",
       " '     20,99 €   -21% 26,45 €',\n",
       " '     20,99 €   -21% 26,45 €',\n",
       " '     1,99 €  ',\n",
       " '     1,99 €  ',\n",
       " '   Desde   9,95 €  ',\n",
       " '     10,99 €   -14% 12,75 €',\n",
       " '     7,95 €   -19% 9,75 €',\n",
       " '     28,75 €   -16% 34,00 €',\n",
       " '     7,95 €   -28% 10,95 €',\n",
       " '     15,99 €  ',\n",
       " '     14,99 €   -17% 18,05 €',\n",
       " '     28,75 €   -21% 36,00 €',\n",
       " '     13,99 €   -14% 16,10 €']"
      ]
     },
     "execution_count": 115,
     "metadata": {},
     "output_type": "execute_result"
    }
   ],
   "source": [
    "precio"
   ]
  },
  {
   "cell_type": "code",
   "execution_count": 116,
   "metadata": {},
   "outputs": [
    {
     "data": {
      "text/html": [
       "<div>\n",
       "<style scoped>\n",
       "    .dataframe tbody tr th:only-of-type {\n",
       "        vertical-align: middle;\n",
       "    }\n",
       "\n",
       "    .dataframe tbody tr th {\n",
       "        vertical-align: top;\n",
       "    }\n",
       "\n",
       "    .dataframe thead th {\n",
       "        text-align: right;\n",
       "    }\n",
       "</style>\n",
       "<table border=\"1\" class=\"dataframe\">\n",
       "  <thead>\n",
       "    <tr style=\"text-align: right;\">\n",
       "      <th></th>\n",
       "      <th>0</th>\n",
       "    </tr>\n",
       "  </thead>\n",
       "  <tbody>\n",
       "    <tr>\n",
       "      <th>0</th>\n",
       "      <td>10,95 €</td>\n",
       "    </tr>\n",
       "    <tr>\n",
       "      <th>1</th>\n",
       "      <td>21,50 €   -17% 25,70 €</td>\n",
       "    </tr>\n",
       "    <tr>\n",
       "      <th>2</th>\n",
       "      <td>34,99 €   -15% 41,15 €</td>\n",
       "    </tr>\n",
       "    <tr>\n",
       "      <th>3</th>\n",
       "      <td>25,99 €   -16% 30,85 €</td>\n",
       "    </tr>\n",
       "    <tr>\n",
       "      <th>4</th>\n",
       "      <td>29,99 €   -17% 36,00 €</td>\n",
       "    </tr>\n",
       "    <tr>\n",
       "      <th>5</th>\n",
       "      <td>21,99 €   -17% 26,45 €</td>\n",
       "    </tr>\n",
       "    <tr>\n",
       "      <th>6</th>\n",
       "      <td>11,75 €   -16% 13,90 €</td>\n",
       "    </tr>\n",
       "    <tr>\n",
       "      <th>7</th>\n",
       "      <td>10,99 €   -19% 13,50 €</td>\n",
       "    </tr>\n",
       "    <tr>\n",
       "      <th>8</th>\n",
       "      <td>25,50 €   -16% 30,20 €</td>\n",
       "    </tr>\n",
       "    <tr>\n",
       "      <th>9</th>\n",
       "      <td>10,50 €   -16% 12,40 €</td>\n",
       "    </tr>\n",
       "    <tr>\n",
       "      <th>10</th>\n",
       "      <td>4,99 €   -21% 6,30 €</td>\n",
       "    </tr>\n",
       "    <tr>\n",
       "      <th>11</th>\n",
       "      <td>20,99 €   -21% 26,45 €</td>\n",
       "    </tr>\n",
       "    <tr>\n",
       "      <th>12</th>\n",
       "      <td>20,99 €   -21% 26,45 €</td>\n",
       "    </tr>\n",
       "    <tr>\n",
       "      <th>13</th>\n",
       "      <td>1,99 €</td>\n",
       "    </tr>\n",
       "    <tr>\n",
       "      <th>14</th>\n",
       "      <td>1,99 €</td>\n",
       "    </tr>\n",
       "    <tr>\n",
       "      <th>15</th>\n",
       "      <td>Desde   9,95 €</td>\n",
       "    </tr>\n",
       "    <tr>\n",
       "      <th>16</th>\n",
       "      <td>10,99 €   -14% 12,75 €</td>\n",
       "    </tr>\n",
       "    <tr>\n",
       "      <th>17</th>\n",
       "      <td>7,95 €   -19% 9,75 €</td>\n",
       "    </tr>\n",
       "    <tr>\n",
       "      <th>18</th>\n",
       "      <td>28,75 €   -16% 34,00 €</td>\n",
       "    </tr>\n",
       "    <tr>\n",
       "      <th>19</th>\n",
       "      <td>7,95 €   -28% 10,95 €</td>\n",
       "    </tr>\n",
       "    <tr>\n",
       "      <th>20</th>\n",
       "      <td>15,99 €</td>\n",
       "    </tr>\n",
       "    <tr>\n",
       "      <th>21</th>\n",
       "      <td>14,99 €   -17% 18,05 €</td>\n",
       "    </tr>\n",
       "    <tr>\n",
       "      <th>22</th>\n",
       "      <td>28,75 €   -21% 36,00 €</td>\n",
       "    </tr>\n",
       "    <tr>\n",
       "      <th>23</th>\n",
       "      <td>13,99 €   -14% 16,10 €</td>\n",
       "    </tr>\n",
       "  </tbody>\n",
       "</table>\n",
       "</div>"
      ],
      "text/plain": [
       "                              0\n",
       "0                     10,95 €  \n",
       "1        21,50 €   -17% 25,70 €\n",
       "2        34,99 €   -15% 41,15 €\n",
       "3        25,99 €   -16% 30,85 €\n",
       "4        29,99 €   -17% 36,00 €\n",
       "5        21,99 €   -17% 26,45 €\n",
       "6        11,75 €   -16% 13,90 €\n",
       "7        10,99 €   -19% 13,50 €\n",
       "8        25,50 €   -16% 30,20 €\n",
       "9        10,50 €   -16% 12,40 €\n",
       "10         4,99 €   -21% 6,30 €\n",
       "11       20,99 €   -21% 26,45 €\n",
       "12       20,99 €   -21% 26,45 €\n",
       "13                     1,99 €  \n",
       "14                     1,99 €  \n",
       "15             Desde   9,95 €  \n",
       "16       10,99 €   -14% 12,75 €\n",
       "17         7,95 €   -19% 9,75 €\n",
       "18       28,75 €   -16% 34,00 €\n",
       "19        7,95 €   -28% 10,95 €\n",
       "20                    15,99 €  \n",
       "21       14,99 €   -17% 18,05 €\n",
       "22       28,75 €   -21% 36,00 €\n",
       "23       13,99 €   -14% 16,10 €"
      ]
     },
     "execution_count": 116,
     "metadata": {},
     "output_type": "execute_result"
    }
   ],
   "source": [
    "df_precio = pd.DataFrame(precio)\n",
    "df_precio"
   ]
  },
  {
   "cell_type": "code",
   "execution_count": 117,
   "metadata": {},
   "outputs": [],
   "source": [
    "df_precio.to_csv(\"precio.csv\")"
   ]
  },
  {
   "cell_type": "code",
   "execution_count": null,
   "metadata": {},
   "outputs": [],
   "source": [
    "### UNIR LAS COLUMNAS DE LOS DOS DATAFRAME?? O UN BUCLE, COGE LA PRIMERA COLUMNA"
   ]
  },
  {
   "cell_type": "code",
   "execution_count": 93,
   "metadata": {},
   "outputs": [
    {
     "name": "stdout",
     "output_type": "stream",
     "text": [
      "urlquecambialapáginp=0\n",
      "urlquecambialapáginp=1\n",
      "urlquecambialapáginp=2\n"
     ]
    }
   ],
   "source": [
    "for a in range(0,3):\n",
    "    print  (f\"urlquecambialapáginp={a}\")"
   ]
  },
  {
   "cell_type": "code",
   "execution_count": null,
   "metadata": {},
   "outputs": [],
   "source": []
  }
 ],
 "metadata": {
  "kernelspec": {
   "display_name": "Python 3",
   "language": "python",
   "name": "python3"
  },
  "language_info": {
   "codemirror_mode": {
    "name": "ipython",
    "version": 3
   },
   "file_extension": ".py",
   "mimetype": "text/x-python",
   "name": "python",
   "nbconvert_exporter": "python",
   "pygments_lexer": "ipython3",
   "version": "3.8.5"
  }
 },
 "nbformat": 4,
 "nbformat_minor": 4
}
