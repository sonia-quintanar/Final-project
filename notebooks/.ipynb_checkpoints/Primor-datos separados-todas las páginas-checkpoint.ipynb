{
 "cells": [
  {
   "cell_type": "code",
   "execution_count": 6,
   "metadata": {},
   "outputs": [],
   "source": [
    "import requests\n",
    "from bs4 import BeautifulSoup\n",
    "import pandas as pd\n",
    "import json\n",
    "import numpy as np"
   ]
  },
  {
   "cell_type": "markdown",
   "metadata": {},
   "source": [
    "## Marcas productos"
   ]
  },
  {
   "cell_type": "code",
   "execution_count": 7,
   "metadata": {},
   "outputs": [],
   "source": [
    "#('h4', class_= 'product-manufacturer')"
   ]
  },
  {
   "cell_type": "code",
   "execution_count": 27,
   "metadata": {},
   "outputs": [
    {
     "name": "stdout",
     "output_type": "stream",
     "text": [
      "https://www.primor.eu/66-dermocosmetica?p=2\n",
      "https://www.primor.eu/66-dermocosmetica?p=3\n",
      "https://www.primor.eu/66-dermocosmetica?p=4\n",
      "https://www.primor.eu/66-dermocosmetica?p=5\n",
      "https://www.primor.eu/66-dermocosmetica?p=6\n",
      "https://www.primor.eu/66-dermocosmetica?p=7\n"
     ]
    }
   ],
   "source": [
    "for a in range(2,8):\n",
    "    print  (f\"https://www.primor.eu/66-dermocosmetica?p={a}\")"
   ]
  },
  {
   "cell_type": "markdown",
   "metadata": {},
   "source": [
    "### Página 1"
   ]
  },
  {
   "cell_type": "code",
   "execution_count": 8,
   "metadata": {},
   "outputs": [],
   "source": [
    "url = 'https://www.primor.eu/66-dermocosmetica'"
   ]
  },
  {
   "cell_type": "code",
   "execution_count": 26,
   "metadata": {},
   "outputs": [
    {
     "data": {
      "text/plain": [
       "['  Deiters ',\n",
       " '  Sesderma ',\n",
       " '  Sesderma ',\n",
       " '  Sesderma ',\n",
       " '  Sesderma ',\n",
       " '  Klorane ',\n",
       " '  Klorane ',\n",
       " '  Avene ',\n",
       " '  Ducray ',\n",
       " '  Ducray ',\n",
       " '  Ducray ',\n",
       " '  Ducray ',\n",
       " '  Ducray ',\n",
       " '  Blistex ',\n",
       " '  Blistex ',\n",
       " '  Bio-Oil ',\n",
       " '  Eucerin ',\n",
       " '  Avene ',\n",
       " '  Sesderma ',\n",
       " '  Beauty Drops ',\n",
       " '  Belcils ',\n",
       " '  Belcils ',\n",
       " '  Sesderma ',\n",
       " '  Sesderma ']"
      ]
     },
     "execution_count": 26,
     "metadata": {},
     "output_type": "execute_result"
    }
   ],
   "source": [
    "response = requests.get(url).text\n",
    "beautiful = BeautifulSoup(response,'html.parser')\n",
    "soup = BeautifulSoup(response,)\n",
    "marcas = soup.find_all('h4',class_ = 'product-manufacturer')\n",
    "marcas = [elemento.text for elemento in marcas]\n",
    "marcas"
   ]
  },
  {
   "cell_type": "code",
   "execution_count": 69,
   "metadata": {},
   "outputs": [
    {
     "data": {
      "text/plain": [
       "['  FisioCannabis Crema en Gel Alivio Muscular... ',\n",
       " '  Serenity Bruma Rostro y Almohada ',\n",
       " '  Serenity Sérum Liposomal Noche... ',\n",
       " '  Serenity Mascarilla Facial Nocturna... ',\n",
       " '  Serenity Crema de Noche Antienvejecimiento ',\n",
       " '  Gel Crema Hidratante con Agua de Aciano ',\n",
       " '  Bruma Corporal Hidratante de Peonía ',\n",
       " '  Cicalfate Gel para Cicatrices ',\n",
       " '  Set Keracnyl Sérum + Gel Limpiador ',\n",
       " '  Dexeryl Crema Barrera Aislante ',\n",
       " '  Dermalibour + Crema Reparadora ',\n",
       " '  Set Keracnyl PP Crema + Gel Limpiador ',\n",
       " '  Set Keracnyl Control + Gel Limpiador ',\n",
       " '  Lip Infusion Hydration SPF15 Bálsamo Labial ',\n",
       " '  Lip Infusion Nourish SPF15 Bálsamo Labial ',\n",
       " '  Gel para Piel Seca ',\n",
       " '  DermatoClean Hyaluron Espuma Micelar ',\n",
       " '  Desodorante Roll On 24h Piel Sensible ',\n",
       " '  Oceanskin Crema Facial Nutritiva ',\n",
       " '  Vitamina C al 20% + Ácido Hialurónico ',\n",
       " '  Pack Cejas Perfectas ',\n",
       " '  Máscara Sublime ',\n",
       " '  Juveneses Sebum Regulador ',\n",
       " '  Hidraloe Contorno de Ojos ']"
      ]
     },
     "execution_count": 69,
     "metadata": {},
     "output_type": "execute_result"
    }
   ],
   "source": [
    "response = requests.get(url).text\n",
    "beautiful = BeautifulSoup(response,'html.parser')\n",
    "soup = BeautifulSoup(response,)\n",
    "productos = soup.find_all('h5',class_ = 'product-name')\n",
    "productos = [elemento.text for elemento in productos]\n",
    "productos"
   ]
  },
  {
   "cell_type": "code",
   "execution_count": 28,
   "metadata": {},
   "outputs": [],
   "source": [
    "#df_marcas= pd.DataFrame(marcas)\n",
    "#df_marcas"
   ]
  },
  {
   "cell_type": "code",
   "execution_count": 78,
   "metadata": {},
   "outputs": [
    {
     "data": {
      "text/plain": [
       "['    10,95 €  ',\n",
       " '    21,50 €  ',\n",
       " '    34,99 €  ',\n",
       " '    25,99 €  ',\n",
       " '    29,99 €  ',\n",
       " '    21,99 €  ',\n",
       " '    11,75 €  ',\n",
       " '    10,99 €  ',\n",
       " '    25,50 €  ',\n",
       " '    10,50 €  ',\n",
       " '    4,99 €  ',\n",
       " '    20,99 €  ',\n",
       " '    20,99 €  ',\n",
       " '    1,99 €  ',\n",
       " '    1,99 €  ',\n",
       " '  Desde   9,95 €  ',\n",
       " '    10,99 €  ',\n",
       " '    7,95 €  ',\n",
       " '    28,75 €  ',\n",
       " '    7,95 €  ',\n",
       " '    15,99 €  ',\n",
       " '    14,99 €  ',\n",
       " '    28,75 €  ',\n",
       " '    13,99 €  ']"
      ]
     },
     "execution_count": 78,
     "metadata": {},
     "output_type": "execute_result"
    }
   ],
   "source": [
    "response = requests.get(url).text\n",
    "beautiful = BeautifulSoup(response,'html.parser')\n",
    "soup = BeautifulSoup(response,)\n",
    "precio_productos = soup.find_all('span', class_='price product-price pull-left')\n",
    "precio = [elemento.text for elemento in precio_productos]\n",
    "precio"
   ]
  },
  {
   "cell_type": "markdown",
   "metadata": {},
   "source": [
    "### Página 2"
   ]
  },
  {
   "cell_type": "code",
   "execution_count": 29,
   "metadata": {},
   "outputs": [],
   "source": [
    "url = 'https://www.primor.eu/66-dermocosmetica?p=2'"
   ]
  },
  {
   "cell_type": "code",
   "execution_count": 32,
   "metadata": {},
   "outputs": [
    {
     "data": {
      "text/plain": [
       "['  Avene ',\n",
       " '  Avene ',\n",
       " '  Somatoline ',\n",
       " '  Somatoline ',\n",
       " '  Somatoline ',\n",
       " '  Somatoline ',\n",
       " '  Bioderma ',\n",
       " '  Vichy ',\n",
       " '  Weleda ',\n",
       " '  Abbott ',\n",
       " '  NeoStrata ',\n",
       " '  NeoStrata ',\n",
       " '  NeoStrata ',\n",
       " '  Urgo ',\n",
       " '  Lullage ',\n",
       " '  Lullage ',\n",
       " '  Nuxe ',\n",
       " '  Bioderma ',\n",
       " '  Bioderma ',\n",
       " '  Bioderma ',\n",
       " '  Bioderma ',\n",
       " '  Bioderma ',\n",
       " '  Nuxe ',\n",
       " '  Nuxe ']"
      ]
     },
     "execution_count": 32,
     "metadata": {},
     "output_type": "execute_result"
    }
   ],
   "source": [
    "response = requests.get(url).text\n",
    "beautiful = BeautifulSoup(response,'html.parser')\n",
    "soup = BeautifulSoup(response,)\n",
    "marcas = soup.find_all('h4',class_ = 'product-manufacturer')\n",
    "marcas2 = [elemento.text for elemento in marcas]\n",
    "marcas2"
   ]
  },
  {
   "cell_type": "code",
   "execution_count": 70,
   "metadata": {},
   "outputs": [
    {
     "data": {
      "text/plain": [
       "['  FisioCannabis Crema en Gel Alivio Muscular... ',\n",
       " '  Serenity Bruma Rostro y Almohada ',\n",
       " '  Serenity Sérum Liposomal Noche... ',\n",
       " '  Serenity Mascarilla Facial Nocturna... ',\n",
       " '  Serenity Crema de Noche Antienvejecimiento ',\n",
       " '  Gel Crema Hidratante con Agua de Aciano ',\n",
       " '  Bruma Corporal Hidratante de Peonía ',\n",
       " '  Cicalfate Gel para Cicatrices ',\n",
       " '  Set Keracnyl Sérum + Gel Limpiador ',\n",
       " '  Dexeryl Crema Barrera Aislante ',\n",
       " '  Dermalibour + Crema Reparadora ',\n",
       " '  Set Keracnyl PP Crema + Gel Limpiador ',\n",
       " '  Set Keracnyl Control + Gel Limpiador ',\n",
       " '  Lip Infusion Hydration SPF15 Bálsamo Labial ',\n",
       " '  Lip Infusion Nourish SPF15 Bálsamo Labial ',\n",
       " '  Gel para Piel Seca ',\n",
       " '  DermatoClean Hyaluron Espuma Micelar ',\n",
       " '  Desodorante Roll On 24h Piel Sensible ',\n",
       " '  Oceanskin Crema Facial Nutritiva ',\n",
       " '  Vitamina C al 20% + Ácido Hialurónico ',\n",
       " '  Pack Cejas Perfectas ',\n",
       " '  Máscara Sublime ',\n",
       " '  Juveneses Sebum Regulador ',\n",
       " '  Hidraloe Contorno de Ojos ']"
      ]
     },
     "execution_count": 70,
     "metadata": {},
     "output_type": "execute_result"
    }
   ],
   "source": [
    "response = requests.get(url).text\n",
    "beautiful = BeautifulSoup(response,'html.parser')\n",
    "soup = BeautifulSoup(response,)\n",
    "productos = soup.find_all('h5',class_ = 'product-name')\n",
    "productos = [elemento.text for elemento in productos]\n",
    "productos"
   ]
  },
  {
   "cell_type": "code",
   "execution_count": 80,
   "metadata": {},
   "outputs": [
    {
     "data": {
      "text/plain": [
       "['    10,95 €  ',\n",
       " '    21,50 €  ',\n",
       " '    34,99 €  ',\n",
       " '    25,99 €  ',\n",
       " '    29,99 €  ',\n",
       " '    21,99 €  ',\n",
       " '    11,75 €  ',\n",
       " '    10,99 €  ',\n",
       " '    25,50 €  ',\n",
       " '    10,50 €  ',\n",
       " '    4,99 €  ',\n",
       " '    20,99 €  ',\n",
       " '    20,99 €  ',\n",
       " '    1,99 €  ',\n",
       " '    1,99 €  ',\n",
       " '  Desde   9,95 €  ',\n",
       " '    10,99 €  ',\n",
       " '    7,95 €  ',\n",
       " '    28,75 €  ',\n",
       " '    7,95 €  ',\n",
       " '    15,99 €  ',\n",
       " '    14,99 €  ',\n",
       " '    28,75 €  ',\n",
       " '    13,99 €  ']"
      ]
     },
     "execution_count": 80,
     "metadata": {},
     "output_type": "execute_result"
    }
   ],
   "source": [
    "response = requests.get(url).text\n",
    "beautiful = BeautifulSoup(response,'html.parser')\n",
    "soup = BeautifulSoup(response,)\n",
    "precio_productos = soup.find_all('span', class_='price product-price pull-left')\n",
    "precio = [elemento.text for elemento in precio_productos]\n",
    "precio"
   ]
  },
  {
   "cell_type": "markdown",
   "metadata": {},
   "source": [
    "### Página3 "
   ]
  },
  {
   "cell_type": "code",
   "execution_count": 33,
   "metadata": {},
   "outputs": [],
   "source": [
    "url = 'https://www.primor.eu/66-dermocosmetica?p=3'"
   ]
  },
  {
   "cell_type": "code",
   "execution_count": 34,
   "metadata": {},
   "outputs": [
    {
     "data": {
      "text/plain": [
       "['  Nuxe ',\n",
       " '  Nuxe ',\n",
       " '  Nuxe ',\n",
       " '  Nuxe ',\n",
       " '  Bioderma ',\n",
       " '  Bioderma ',\n",
       " '  Bioderma ',\n",
       " '  Bioderma ',\n",
       " '  Nuxe ',\n",
       " '  Nuxe ',\n",
       " '  Nuxe ',\n",
       " '  Nuxe ',\n",
       " '  Sesderma ',\n",
       " '  Sebamed ',\n",
       " '  Nuggela & Sulé ',\n",
       " '  Nuggela & Sulé ',\n",
       " '  Avene ',\n",
       " '  Avene ',\n",
       " '  Triconatura ',\n",
       " '  Xhekpon ',\n",
       " '  Klorane ',\n",
       " '  Isdin ',\n",
       " '  Isdin ',\n",
       " '  Isdin ']"
      ]
     },
     "execution_count": 34,
     "metadata": {},
     "output_type": "execute_result"
    }
   ],
   "source": [
    "response = requests.get(url).text\n",
    "beautiful = BeautifulSoup(response,'html.parser')\n",
    "soup = BeautifulSoup(response,)\n",
    "marcas = soup.find_all('h4',class_ = 'product-manufacturer')\n",
    "marcas3 = [elemento.text for elemento in marcas]\n",
    "marcas3"
   ]
  },
  {
   "cell_type": "code",
   "execution_count": 71,
   "metadata": {},
   "outputs": [
    {
     "data": {
      "text/plain": [
       "['  FisioCannabis Crema en Gel Alivio Muscular... ',\n",
       " '  Serenity Bruma Rostro y Almohada ',\n",
       " '  Serenity Sérum Liposomal Noche... ',\n",
       " '  Serenity Mascarilla Facial Nocturna... ',\n",
       " '  Serenity Crema de Noche Antienvejecimiento ',\n",
       " '  Gel Crema Hidratante con Agua de Aciano ',\n",
       " '  Bruma Corporal Hidratante de Peonía ',\n",
       " '  Cicalfate Gel para Cicatrices ',\n",
       " '  Set Keracnyl Sérum + Gel Limpiador ',\n",
       " '  Dexeryl Crema Barrera Aislante ',\n",
       " '  Dermalibour + Crema Reparadora ',\n",
       " '  Set Keracnyl PP Crema + Gel Limpiador ',\n",
       " '  Set Keracnyl Control + Gel Limpiador ',\n",
       " '  Lip Infusion Hydration SPF15 Bálsamo Labial ',\n",
       " '  Lip Infusion Nourish SPF15 Bálsamo Labial ',\n",
       " '  Gel para Piel Seca ',\n",
       " '  DermatoClean Hyaluron Espuma Micelar ',\n",
       " '  Desodorante Roll On 24h Piel Sensible ',\n",
       " '  Oceanskin Crema Facial Nutritiva ',\n",
       " '  Vitamina C al 20% + Ácido Hialurónico ',\n",
       " '  Pack Cejas Perfectas ',\n",
       " '  Máscara Sublime ',\n",
       " '  Juveneses Sebum Regulador ',\n",
       " '  Hidraloe Contorno de Ojos ']"
      ]
     },
     "execution_count": 71,
     "metadata": {},
     "output_type": "execute_result"
    }
   ],
   "source": [
    "response = requests.get(url).text\n",
    "beautiful = BeautifulSoup(response,'html.parser')\n",
    "soup = BeautifulSoup(response,)\n",
    "productos = soup.find_all('h5',class_ = 'product-name')\n",
    "productos = [elemento.text for elemento in productos]\n",
    "productos"
   ]
  },
  {
   "cell_type": "code",
   "execution_count": 81,
   "metadata": {},
   "outputs": [
    {
     "data": {
      "text/plain": [
       "['    10,95 €  ',\n",
       " '    21,50 €  ',\n",
       " '    34,99 €  ',\n",
       " '    25,99 €  ',\n",
       " '    29,99 €  ',\n",
       " '    21,99 €  ',\n",
       " '    11,75 €  ',\n",
       " '    10,99 €  ',\n",
       " '    25,50 €  ',\n",
       " '    10,50 €  ',\n",
       " '    4,99 €  ',\n",
       " '    20,99 €  ',\n",
       " '    20,99 €  ',\n",
       " '    1,99 €  ',\n",
       " '    1,99 €  ',\n",
       " '  Desde   9,95 €  ',\n",
       " '    10,99 €  ',\n",
       " '    7,95 €  ',\n",
       " '    28,75 €  ',\n",
       " '    7,95 €  ',\n",
       " '    15,99 €  ',\n",
       " '    14,99 €  ',\n",
       " '    28,75 €  ',\n",
       " '    13,99 €  ']"
      ]
     },
     "execution_count": 81,
     "metadata": {},
     "output_type": "execute_result"
    }
   ],
   "source": [
    "response = requests.get(url).text\n",
    "beautiful = BeautifulSoup(response,'html.parser')\n",
    "soup = BeautifulSoup(response,)\n",
    "precio_productos = soup.find_all('span', class_='price product-price pull-left')\n",
    "precio = [elemento.text for elemento in precio_productos]\n",
    "precio"
   ]
  },
  {
   "cell_type": "markdown",
   "metadata": {},
   "source": [
    "### Página 4"
   ]
  },
  {
   "cell_type": "code",
   "execution_count": 36,
   "metadata": {},
   "outputs": [],
   "source": [
    "url = 'https://www.primor.eu/66-dermocosmetica?p=4'"
   ]
  },
  {
   "cell_type": "code",
   "execution_count": 37,
   "metadata": {},
   "outputs": [
    {
     "data": {
      "text/plain": [
       "['  Isdin ',\n",
       " '  Isdin ',\n",
       " '  Elancyl ',\n",
       " '  Remescar ',\n",
       " '  Vichy ',\n",
       " '  Ducray ',\n",
       " '  Ducray ',\n",
       " '  Vichy ',\n",
       " '  Vichy ',\n",
       " '  Vichy ',\n",
       " '  Vichy ',\n",
       " '  Ducray ',\n",
       " '  Inibsa ',\n",
       " '  Inibsa ',\n",
       " '  Eucerin ',\n",
       " '  Eucerin ',\n",
       " '  Neutrogena ',\n",
       " '  La Roche-Posay ',\n",
       " '  La Roche-Posay ',\n",
       " '  La Roche-Posay ',\n",
       " '  La Roche-Posay ',\n",
       " '  Deiters ',\n",
       " '  Germinal ',\n",
       " '  Germinal ']"
      ]
     },
     "execution_count": 37,
     "metadata": {},
     "output_type": "execute_result"
    }
   ],
   "source": [
    "response = requests.get(url).text\n",
    "beautiful = BeautifulSoup(response,'html.parser')\n",
    "soup = BeautifulSoup(response,)\n",
    "marcas = soup.find_all('h4',class_ = 'product-manufacturer')\n",
    "marcas4 = [elemento.text for elemento in marcas]\n",
    "marcas4"
   ]
  },
  {
   "cell_type": "code",
   "execution_count": 72,
   "metadata": {},
   "outputs": [
    {
     "data": {
      "text/plain": [
       "['  FisioCannabis Crema en Gel Alivio Muscular... ',\n",
       " '  Serenity Bruma Rostro y Almohada ',\n",
       " '  Serenity Sérum Liposomal Noche... ',\n",
       " '  Serenity Mascarilla Facial Nocturna... ',\n",
       " '  Serenity Crema de Noche Antienvejecimiento ',\n",
       " '  Gel Crema Hidratante con Agua de Aciano ',\n",
       " '  Bruma Corporal Hidratante de Peonía ',\n",
       " '  Cicalfate Gel para Cicatrices ',\n",
       " '  Set Keracnyl Sérum + Gel Limpiador ',\n",
       " '  Dexeryl Crema Barrera Aislante ',\n",
       " '  Dermalibour + Crema Reparadora ',\n",
       " '  Set Keracnyl PP Crema + Gel Limpiador ',\n",
       " '  Set Keracnyl Control + Gel Limpiador ',\n",
       " '  Lip Infusion Hydration SPF15 Bálsamo Labial ',\n",
       " '  Lip Infusion Nourish SPF15 Bálsamo Labial ',\n",
       " '  Gel para Piel Seca ',\n",
       " '  DermatoClean Hyaluron Espuma Micelar ',\n",
       " '  Desodorante Roll On 24h Piel Sensible ',\n",
       " '  Oceanskin Crema Facial Nutritiva ',\n",
       " '  Vitamina C al 20% + Ácido Hialurónico ',\n",
       " '  Pack Cejas Perfectas ',\n",
       " '  Máscara Sublime ',\n",
       " '  Juveneses Sebum Regulador ',\n",
       " '  Hidraloe Contorno de Ojos ']"
      ]
     },
     "execution_count": 72,
     "metadata": {},
     "output_type": "execute_result"
    }
   ],
   "source": [
    "response = requests.get(url).text\n",
    "beautiful = BeautifulSoup(response,'html.parser')\n",
    "soup = BeautifulSoup(response,)\n",
    "productos = soup.find_all('h5',class_ = 'product-name')\n",
    "productos = [elemento.text for elemento in productos]\n",
    "productos"
   ]
  },
  {
   "cell_type": "code",
   "execution_count": null,
   "metadata": {},
   "outputs": [],
   "source": [
    "response = requests.get(url).text\n",
    "beautiful = BeautifulSoup(response,'html.parser')\n",
    "soup = BeautifulSoup(response,)\n",
    "precio_productos = soup.find_all('span', class_='price product-price pull-left')\n",
    "precio = [elemento.text for elemento in precio_productos]\n",
    "precio"
   ]
  },
  {
   "cell_type": "markdown",
   "metadata": {},
   "source": [
    "### Página 5"
   ]
  },
  {
   "cell_type": "code",
   "execution_count": 38,
   "metadata": {},
   "outputs": [],
   "source": [
    "url = 'https://www.primor.eu/66-dermocosmetica?p=5'"
   ]
  },
  {
   "cell_type": "code",
   "execution_count": 39,
   "metadata": {},
   "outputs": [
    {
     "data": {
      "text/plain": [
       "['  Germinal ',\n",
       " '  Germinal ',\n",
       " '  Sesderma ',\n",
       " '  Sesderma ',\n",
       " '  La Roche-Posay ',\n",
       " '  Avene ',\n",
       " '  Nutriceutics ',\n",
       " '  Cumlaude ',\n",
       " '  Avene ',\n",
       " '  La Roche-Posay ',\n",
       " '  Vichy ',\n",
       " '  Eucerin ',\n",
       " '  Vichy ',\n",
       " '  Vichy ',\n",
       " '  Vichy ',\n",
       " '  The Ordinary ',\n",
       " '  A-Derma ',\n",
       " '  Germinal ',\n",
       " '  Remescar ',\n",
       " '  Avene ',\n",
       " '  Avene ',\n",
       " '  Avene ',\n",
       " '  Vichy ',\n",
       " '  Vichy ']"
      ]
     },
     "execution_count": 39,
     "metadata": {},
     "output_type": "execute_result"
    }
   ],
   "source": [
    "response = requests.get(url).text\n",
    "beautiful = BeautifulSoup(response,'html.parser')\n",
    "soup = BeautifulSoup(response,)\n",
    "marcas = soup.find_all('h4',class_ = 'product-manufacturer')\n",
    "marcas5 = [elemento.text for elemento in marcas]\n",
    "marcas5"
   ]
  },
  {
   "cell_type": "code",
   "execution_count": 73,
   "metadata": {},
   "outputs": [
    {
     "data": {
      "text/plain": [
       "['  FisioCannabis Crema en Gel Alivio Muscular... ',\n",
       " '  Serenity Bruma Rostro y Almohada ',\n",
       " '  Serenity Sérum Liposomal Noche... ',\n",
       " '  Serenity Mascarilla Facial Nocturna... ',\n",
       " '  Serenity Crema de Noche Antienvejecimiento ',\n",
       " '  Gel Crema Hidratante con Agua de Aciano ',\n",
       " '  Bruma Corporal Hidratante de Peonía ',\n",
       " '  Cicalfate Gel para Cicatrices ',\n",
       " '  Set Keracnyl Sérum + Gel Limpiador ',\n",
       " '  Dexeryl Crema Barrera Aislante ',\n",
       " '  Dermalibour + Crema Reparadora ',\n",
       " '  Set Keracnyl PP Crema + Gel Limpiador ',\n",
       " '  Set Keracnyl Control + Gel Limpiador ',\n",
       " '  Lip Infusion Hydration SPF15 Bálsamo Labial ',\n",
       " '  Lip Infusion Nourish SPF15 Bálsamo Labial ',\n",
       " '  Gel para Piel Seca ',\n",
       " '  DermatoClean Hyaluron Espuma Micelar ',\n",
       " '  Desodorante Roll On 24h Piel Sensible ',\n",
       " '  Oceanskin Crema Facial Nutritiva ',\n",
       " '  Vitamina C al 20% + Ácido Hialurónico ',\n",
       " '  Pack Cejas Perfectas ',\n",
       " '  Máscara Sublime ',\n",
       " '  Juveneses Sebum Regulador ',\n",
       " '  Hidraloe Contorno de Ojos ']"
      ]
     },
     "execution_count": 73,
     "metadata": {},
     "output_type": "execute_result"
    }
   ],
   "source": [
    "response = requests.get(url).text\n",
    "beautiful = BeautifulSoup(response,'html.parser')\n",
    "soup = BeautifulSoup(response,)\n",
    "productos = soup.find_all('h5',class_ = 'product-name')\n",
    "productos = [elemento.text for elemento in productos]\n",
    "productos"
   ]
  },
  {
   "cell_type": "code",
   "execution_count": null,
   "metadata": {},
   "outputs": [],
   "source": [
    "response = requests.get(url).text\n",
    "beautiful = BeautifulSoup(response,'html.parser')\n",
    "soup = BeautifulSoup(response,)\n",
    "precio_productos = soup.find_all('span', class_='price product-price pull-left')\n",
    "precio = [elemento.text for elemento in precio_productos]\n",
    "precio"
   ]
  },
  {
   "cell_type": "markdown",
   "metadata": {},
   "source": [
    "### Página 6"
   ]
  },
  {
   "cell_type": "code",
   "execution_count": 40,
   "metadata": {},
   "outputs": [],
   "source": [
    "url = 'https://www.primor.eu/66-dermocosmetica?p=6'"
   ]
  },
  {
   "cell_type": "code",
   "execution_count": 41,
   "metadata": {},
   "outputs": [
    {
     "data": {
      "text/plain": [
       "['  Arganour ',\n",
       " '  Avene ',\n",
       " '  Avene ',\n",
       " '  Avene ',\n",
       " '  Roc ',\n",
       " '  Grisi ',\n",
       " '  Germinal ',\n",
       " '  Sesderma ',\n",
       " '  Sesderma ',\n",
       " '  Vichy ',\n",
       " '  La Roche-Posay ',\n",
       " '  Sesderma ',\n",
       " '  Sesderma ',\n",
       " '  Sesderma ',\n",
       " '  Sesderma ',\n",
       " '  Sesderma ',\n",
       " '  Sesderma ',\n",
       " '  La Roche-Posay ',\n",
       " '  Avene ',\n",
       " '  Germinal ',\n",
       " '  La Roche-Posay ',\n",
       " '  La Roche-Posay ',\n",
       " '  Avene ',\n",
       " '  Vichy ']"
      ]
     },
     "execution_count": 41,
     "metadata": {},
     "output_type": "execute_result"
    }
   ],
   "source": [
    "response = requests.get(url).text\n",
    "beautiful = BeautifulSoup(response,'html.parser')\n",
    "soup = BeautifulSoup(response,)\n",
    "marcas = soup.find_all('h4',class_ = 'product-manufacturer')\n",
    "marcas6 = [elemento.text for elemento in marcas]\n",
    "marcas6"
   ]
  },
  {
   "cell_type": "code",
   "execution_count": 74,
   "metadata": {
    "scrolled": true
   },
   "outputs": [
    {
     "data": {
      "text/plain": [
       "['  FisioCannabis Crema en Gel Alivio Muscular... ',\n",
       " '  Serenity Bruma Rostro y Almohada ',\n",
       " '  Serenity Sérum Liposomal Noche... ',\n",
       " '  Serenity Mascarilla Facial Nocturna... ',\n",
       " '  Serenity Crema de Noche Antienvejecimiento ',\n",
       " '  Gel Crema Hidratante con Agua de Aciano ',\n",
       " '  Bruma Corporal Hidratante de Peonía ',\n",
       " '  Cicalfate Gel para Cicatrices ',\n",
       " '  Set Keracnyl Sérum + Gel Limpiador ',\n",
       " '  Dexeryl Crema Barrera Aislante ',\n",
       " '  Dermalibour + Crema Reparadora ',\n",
       " '  Set Keracnyl PP Crema + Gel Limpiador ',\n",
       " '  Set Keracnyl Control + Gel Limpiador ',\n",
       " '  Lip Infusion Hydration SPF15 Bálsamo Labial ',\n",
       " '  Lip Infusion Nourish SPF15 Bálsamo Labial ',\n",
       " '  Gel para Piel Seca ',\n",
       " '  DermatoClean Hyaluron Espuma Micelar ',\n",
       " '  Desodorante Roll On 24h Piel Sensible ',\n",
       " '  Oceanskin Crema Facial Nutritiva ',\n",
       " '  Vitamina C al 20% + Ácido Hialurónico ',\n",
       " '  Pack Cejas Perfectas ',\n",
       " '  Máscara Sublime ',\n",
       " '  Juveneses Sebum Regulador ',\n",
       " '  Hidraloe Contorno de Ojos ']"
      ]
     },
     "execution_count": 74,
     "metadata": {},
     "output_type": "execute_result"
    }
   ],
   "source": [
    "response = requests.get(url).text\n",
    "beautiful = BeautifulSoup(response,'html.parser')\n",
    "soup = BeautifulSoup(response,)\n",
    "productos = soup.find_all('h5',class_ = 'product-name')\n",
    "productos = [elemento.text for elemento in productos]\n",
    "productos"
   ]
  },
  {
   "cell_type": "code",
   "execution_count": null,
   "metadata": {},
   "outputs": [],
   "source": [
    "response = requests.get(url).text\n",
    "beautiful = BeautifulSoup(response,'html.parser')\n",
    "soup = BeautifulSoup(response,)\n",
    "precio_productos = soup.find_all('span', class_='price product-price pull-left')\n",
    "precio = [elemento.text for elemento in precio_productos]\n",
    "precio"
   ]
  },
  {
   "cell_type": "markdown",
   "metadata": {},
   "source": [
    "### Página 7"
   ]
  },
  {
   "cell_type": "code",
   "execution_count": 42,
   "metadata": {},
   "outputs": [],
   "source": [
    "url = 'https://www.primor.eu/66-dermocosmetica?p=7'"
   ]
  },
  {
   "cell_type": "code",
   "execution_count": 43,
   "metadata": {},
   "outputs": [
    {
     "data": {
      "text/plain": [
       "['  Xhekpon ', '  Doctor Hauschka ']"
      ]
     },
     "execution_count": 43,
     "metadata": {},
     "output_type": "execute_result"
    }
   ],
   "source": [
    "response = requests.get(url).text\n",
    "beautiful = BeautifulSoup(response,'html.parser')\n",
    "soup = BeautifulSoup(response,)\n",
    "marcas = soup.find_all('h4',class_ = 'product-manufacturer')\n",
    "marcas7 = [elemento.text for elemento in marcas]\n",
    "marcas7"
   ]
  },
  {
   "cell_type": "code",
   "execution_count": 75,
   "metadata": {},
   "outputs": [
    {
     "data": {
      "text/plain": [
       "['  FisioCannabis Crema en Gel Alivio Muscular... ',\n",
       " '  Serenity Bruma Rostro y Almohada ',\n",
       " '  Serenity Sérum Liposomal Noche... ',\n",
       " '  Serenity Mascarilla Facial Nocturna... ',\n",
       " '  Serenity Crema de Noche Antienvejecimiento ',\n",
       " '  Gel Crema Hidratante con Agua de Aciano ',\n",
       " '  Bruma Corporal Hidratante de Peonía ',\n",
       " '  Cicalfate Gel para Cicatrices ',\n",
       " '  Set Keracnyl Sérum + Gel Limpiador ',\n",
       " '  Dexeryl Crema Barrera Aislante ',\n",
       " '  Dermalibour + Crema Reparadora ',\n",
       " '  Set Keracnyl PP Crema + Gel Limpiador ',\n",
       " '  Set Keracnyl Control + Gel Limpiador ',\n",
       " '  Lip Infusion Hydration SPF15 Bálsamo Labial ',\n",
       " '  Lip Infusion Nourish SPF15 Bálsamo Labial ',\n",
       " '  Gel para Piel Seca ',\n",
       " '  DermatoClean Hyaluron Espuma Micelar ',\n",
       " '  Desodorante Roll On 24h Piel Sensible ',\n",
       " '  Oceanskin Crema Facial Nutritiva ',\n",
       " '  Vitamina C al 20% + Ácido Hialurónico ',\n",
       " '  Pack Cejas Perfectas ',\n",
       " '  Máscara Sublime ',\n",
       " '  Juveneses Sebum Regulador ',\n",
       " '  Hidraloe Contorno de Ojos ']"
      ]
     },
     "execution_count": 75,
     "metadata": {},
     "output_type": "execute_result"
    }
   ],
   "source": [
    "response = requests.get(url).text\n",
    "beautiful = BeautifulSoup(response,'html.parser')\n",
    "soup = BeautifulSoup(response,)\n",
    "productos = soup.find_all('h5',class_ = 'product-name')\n",
    "productos = [elemento.text for elemento in productos]\n",
    "productos"
   ]
  },
  {
   "cell_type": "code",
   "execution_count": 1,
   "metadata": {
    "scrolled": true
   },
   "outputs": [],
   "source": [
    "#df_productos= pd.DataFrame(precio)\n",
    "#df_productos"
   ]
  },
  {
   "cell_type": "code",
   "execution_count": 129,
   "metadata": {},
   "outputs": [],
   "source": [
    "# Concatenamos las columnas obtenidas"
   ]
  },
  {
   "cell_type": "code",
   "execution_count": 83,
   "metadata": {},
   "outputs": [
    {
     "data": {
      "text/html": [
       "<div>\n",
       "<style scoped>\n",
       "    .dataframe tbody tr th:only-of-type {\n",
       "        vertical-align: middle;\n",
       "    }\n",
       "\n",
       "    .dataframe tbody tr th {\n",
       "        vertical-align: top;\n",
       "    }\n",
       "\n",
       "    .dataframe thead th {\n",
       "        text-align: right;\n",
       "    }\n",
       "</style>\n",
       "<table border=\"1\" class=\"dataframe\">\n",
       "  <thead>\n",
       "    <tr style=\"text-align: right;\">\n",
       "      <th></th>\n",
       "      <th>Marca</th>\n",
       "      <th>Nombre</th>\n",
       "      <th>Precio</th>\n",
       "    </tr>\n",
       "  </thead>\n",
       "  <tbody>\n",
       "    <tr>\n",
       "      <th>0</th>\n",
       "      <td>[[ , [ Xhekpon ]], [ , [ Doctor Hauschka ]]]</td>\n",
       "      <td>NaN</td>\n",
       "      <td>NaN</td>\n",
       "    </tr>\n",
       "    <tr>\n",
       "      <th>1</th>\n",
       "      <td>[  Avene ,   Avene ,   Somatoline ,   Somatoli...</td>\n",
       "      <td>NaN</td>\n",
       "      <td>NaN</td>\n",
       "    </tr>\n",
       "    <tr>\n",
       "      <th>2</th>\n",
       "      <td>[  Nuxe ,   Nuxe ,   Nuxe ,   Nuxe ,   Bioderm...</td>\n",
       "      <td>NaN</td>\n",
       "      <td>NaN</td>\n",
       "    </tr>\n",
       "    <tr>\n",
       "      <th>3</th>\n",
       "      <td>[  Isdin ,   Isdin ,   Elancyl ,   Remescar , ...</td>\n",
       "      <td>NaN</td>\n",
       "      <td>NaN</td>\n",
       "    </tr>\n",
       "    <tr>\n",
       "      <th>4</th>\n",
       "      <td>[  Germinal ,   Germinal ,   Sesderma ,   Sesd...</td>\n",
       "      <td>NaN</td>\n",
       "      <td>NaN</td>\n",
       "    </tr>\n",
       "    <tr>\n",
       "      <th>5</th>\n",
       "      <td>[  Arganour ,   Avene ,   Avene ,   Avene ,   ...</td>\n",
       "      <td>NaN</td>\n",
       "      <td>NaN</td>\n",
       "    </tr>\n",
       "    <tr>\n",
       "      <th>6</th>\n",
       "      <td>[  Xhekpon ,   Doctor Hauschka ]</td>\n",
       "      <td>NaN</td>\n",
       "      <td>NaN</td>\n",
       "    </tr>\n",
       "  </tbody>\n",
       "</table>\n",
       "</div>"
      ],
      "text/plain": [
       "                                               Marca  Nombre  Precio\n",
       "0       [[ , [ Xhekpon ]], [ , [ Doctor Hauschka ]]]     NaN     NaN\n",
       "1  [  Avene ,   Avene ,   Somatoline ,   Somatoli...     NaN     NaN\n",
       "2  [  Nuxe ,   Nuxe ,   Nuxe ,   Nuxe ,   Bioderm...     NaN     NaN\n",
       "3  [  Isdin ,   Isdin ,   Elancyl ,   Remescar , ...     NaN     NaN\n",
       "4  [  Germinal ,   Germinal ,   Sesderma ,   Sesd...     NaN     NaN\n",
       "5  [  Arganour ,   Avene ,   Avene ,   Avene ,   ...     NaN     NaN\n",
       "6                   [  Xhekpon ,   Doctor Hauschka ]     NaN     NaN"
      ]
     },
     "execution_count": 83,
     "metadata": {},
     "output_type": "execute_result"
    }
   ],
   "source": [
    "data = {'Marca': marcas,\n",
    "            'Nombre' : productos,\n",
    "            'Precio': precio}\n",
    "data = pd.DataFrame(invoices, columns = ['Marca', 'Nombre', 'Precio'])\n",
    "data"
   ]
  },
  {
   "cell_type": "code",
   "execution_count": 130,
   "metadata": {},
   "outputs": [],
   "source": [
    "# Obtenemos datos de todas las páginas"
   ]
  },
  {
   "cell_type": "code",
   "execution_count": 3,
   "metadata": {},
   "outputs": [
    {
     "name": "stdout",
     "output_type": "stream",
     "text": [
      "https://www.primor.eu/66-dermocosmetica?p=2\n",
      "https://www.primor.eu/66-dermocosmetica?p=3\n",
      "https://www.primor.eu/66-dermocosmetica?p=4\n",
      "https://www.primor.eu/66-dermocosmetica?p=5\n",
      "https://www.primor.eu/66-dermocosmetica?p=6\n",
      "https://www.primor.eu/66-dermocosmetica?p=7\n"
     ]
    }
   ],
   "source": [
    "for a in range(2,8):\n",
    "    print  (f\"https://www.primor.eu/66-dermocosmetica?p={a}\")"
   ]
  },
  {
   "cell_type": "code",
   "execution_count": null,
   "metadata": {},
   "outputs": [],
   "source": []
  }
 ],
 "metadata": {
  "kernelspec": {
   "display_name": "Python 3",
   "language": "python",
   "name": "python3"
  },
  "language_info": {
   "codemirror_mode": {
    "name": "ipython",
    "version": 3
   },
   "file_extension": ".py",
   "mimetype": "text/x-python",
   "name": "python",
   "nbconvert_exporter": "python",
   "pygments_lexer": "ipython3",
   "version": "3.8.5"
  }
 },
 "nbformat": 4,
 "nbformat_minor": 4
}
